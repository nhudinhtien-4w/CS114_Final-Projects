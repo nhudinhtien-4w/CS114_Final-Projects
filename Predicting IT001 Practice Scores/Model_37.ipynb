{
  "nbformat": 4,
  "nbformat_minor": 0,
  "metadata": {
    "colab": {
      "provenance": [],
      "gpuType": "T4"
    },
    "kernelspec": {
      "name": "python3",
      "display_name": "Python 3"
    },
    "language_info": {
      "name": "python"
    },
    "accelerator": "GPU"
  },
  "cells": [
    {
      "cell_type": "code",
      "execution_count": 1,
      "metadata": {
        "colab": {
          "base_uri": "https://localhost:8080/"
        },
        "id": "4W77regeASvi",
        "outputId": "c137612e-b7be-40ee-db7a-a7e53427cc2f"
      },
      "outputs": [
        {
          "output_type": "stream",
          "name": "stdout",
          "text": [
            "Mounted at /content/drive\n"
          ]
        }
      ],
      "source": [
        "from google.colab import drive\n",
        "drive.mount('/content/drive')"
      ]
    },
    {
      "cell_type": "code",
      "source": [
        "import pandas as pd\n",
        "\n",
        "df = pd.read_csv('/content/drive/MyDrive/Máy học/Ex1/annonimized.csv')\n",
        "df_score = pd.read_csv('/content/drive/MyDrive/Máy học/Ex1/th-public.csv')"
      ],
      "metadata": {
        "id": "cub7FS5hAi22"
      },
      "execution_count": 4,
      "outputs": []
    },
    {
      "cell_type": "code",
      "source": [
        "import pandas as pd\n",
        "import numpy as np\n",
        "import json\n",
        "from sklearn.ensemble import RandomForestRegressor\n",
        "from sklearn.model_selection import train_test_split, GridSearchCV\n",
        "from sklearn.metrics import r2_score"
      ],
      "metadata": {
        "id": "bdg1-ZKdC-jc"
      },
      "execution_count": 5,
      "outputs": []
    },
    {
      "cell_type": "code",
      "source": [
        "df_score[\"TH\"] = df_score[\"TH\"].astype(str).str.replace('\\xa0', '').str.strip()\n",
        "df_score[\"TH\"] = pd.to_numeric(df_score[\"TH\"], errors='coerce')"
      ],
      "metadata": {
        "id": "lQDghMraEAZa"
      },
      "execution_count": 6,
      "outputs": []
    },
    {
      "cell_type": "code",
      "source": [
        "# Đổi tên cột cho dễ xử lý\n",
        "df.columns = [\n",
        "    'assignment_id',\n",
        "    'problem_id',\n",
        "    'username',\n",
        "    'is_final',\n",
        "    'status',\n",
        "    'pre_score',\n",
        "    'coefficient',\n",
        "    'language_id',\n",
        "    'created_at',\n",
        "    'updated_at',\n",
        "    'judgement'\n",
        "]"
      ],
      "metadata": {
        "id": "YIhYMZEk1k26"
      },
      "execution_count": 7,
      "outputs": []
    },
    {
      "cell_type": "code",
      "source": [
        "# === BƯỚC 2: TRÍCH ĐẶC TRƯNG TỪ judgement ===\n",
        "def extract_judgement_features(judgement_str):\n",
        "    try:\n",
        "        j = json.loads(judgement_str)\n",
        "        times = j.get(\"times\", [])\n",
        "        mems = j.get(\"mems\", [])\n",
        "        verdicts = j.get(\"verdicts\", {})\n",
        "        total = len(times)\n",
        "        wrong = verdicts.get(\"WRONG\", 0)\n",
        "        correct = total - wrong\n",
        "        return pd.Series({\n",
        "            \"total_tests\": total,\n",
        "            \"correct_tests\": correct,\n",
        "            \"correct_rate\": correct / total if total > 0 else 0,\n",
        "            \"avg_time\": np.mean(times) if times else 0,\n",
        "            \"avg_mem\": np.mean(mems) if mems else 0,\n",
        "            \"wrong_tests\": wrong\n",
        "        })\n",
        "    except:\n",
        "        return pd.Series({\n",
        "            \"total_tests\": 0,\n",
        "            \"correct_tests\": 0,\n",
        "            \"correct_rate\": 0,\n",
        "            \"avg_time\": 0,\n",
        "            \"avg_mem\": 0,\n",
        "            \"wrong_tests\": 0\n",
        "        })\n",
        "\n",
        "judgement_features = df[\"judgement\"].apply(extract_judgement_features)\n",
        "df = pd.concat([df, judgement_features], axis=1)"
      ],
      "metadata": {
        "id": "glA4ZEIL1qMN"
      },
      "execution_count": 8,
      "outputs": []
    },
    {
      "cell_type": "code",
      "source": [
        "# === BƯỚC 3: XỬ LÝ CÁC CỘT CƠ BẢN ===\n",
        "df[\"created_at\"] = pd.to_datetime(\"2025-\" + df[\"created_at\"], format=\"%Y-%m-%d %H:%M:%S\", errors='coerce')\n",
        "df[\"is_correct\"] = (df[\"pre_score\"] == 10000).astype(int)\n",
        "df[\"is_late\"] = (df[\"coefficient\"] < 100).astype(int)\n",
        "df[\"is_scored\"] = (df[\"status\"] == \"SCORE\").astype(int)\n",
        "df[\"day\"] = df[\"created_at\"].dt.date"
      ],
      "metadata": {
        "id": "jUD4DQ_D1tol"
      },
      "execution_count": 9,
      "outputs": []
    },
    {
      "cell_type": "code",
      "source": [
        "# === BƯỚC 4: GOM ĐẶC TRƯNG THEO SINH VIÊN ===\n",
        "feature_df = df.groupby(\"username\").agg({\n",
        "    \"assignment_id\": \"nunique\",\n",
        "    \"problem_id\": \"nunique\",\n",
        "    \"pre_score\": [\"count\", \"mean\", \"max\"],\n",
        "    \"coefficient\": \"mean\",\n",
        "    \"wrong_tests\": \"mean\",\n",
        "    \"is_correct\": \"sum\",\n",
        "    \"is_late\": \"sum\",\n",
        "    \"is_scored\": \"sum\",\n",
        "    \"day\": \"nunique\",\n",
        "    \"correct_rate\": \"mean\",\n",
        "    \"avg_time\": \"mean\",\n",
        "    \"avg_mem\": \"mean\"\n",
        "})\n",
        "\n",
        "# Làm phẳng MultiIndex\n",
        "feature_df.columns = [\n",
        "    \"num_assignments\", \"num_problems\", \"num_submissions\",\n",
        "    \"avg_score\", \"max_score\", \"avg_penalty\", \"avg_wrong_tests\",\n",
        "    \"num_correct\", \"num_late\", \"num_score_status\", \"active_days\",\n",
        "    \"mean_correct_rate\", \"mean_time_per_test\", \"mean_mem_per_test\"\n",
        "]\n",
        "\n",
        "# Đặc trưng tỉ lệ\n",
        "feature_df[\"score_ratio\"] = feature_df[\"num_score_status\"] / feature_df[\"num_submissions\"]\n",
        "feature_df[\"correct_ratio\"] = feature_df[\"num_correct\"] / feature_df[\"num_submissions\"]\n",
        "feature_df[\"late_ratio\"] = feature_df[\"num_late\"] / feature_df[\"num_submissions\"]\n",
        "\n",
        "feature_df.reset_index(inplace=True)"
      ],
      "metadata": {
        "id": "W-9_-VeM1x9L"
      },
      "execution_count": 10,
      "outputs": []
    },
    {
      "cell_type": "code",
      "source": [
        "# === BƯỚC 5: GHÉP ĐIỂM THỰC ===\n",
        "df_score = df_score.rename(columns={\"hash\": \"username\"})\n",
        "merged = feature_df.merge(df_score, on=\"username\", how=\"left\")"
      ],
      "metadata": {
        "id": "rW7HWVCS11BE"
      },
      "execution_count": 11,
      "outputs": []
    },
    {
      "cell_type": "code",
      "source": [
        "\n",
        "# === BƯỚC 6: TÁCH TẬP TRAIN/TEST ===\n",
        "train_data = merged[~merged[\"TH\"].isna()].copy()\n",
        "test_data = merged[merged[\"TH\"].isna()].copy()\n",
        "\n",
        "train_data[\"TH\"] = train_data[\"TH\"].astype(float)\n",
        "\n",
        "X_cols = [\n",
        "    \"num_assignments\", \"num_problems\", \"num_submissions\",\n",
        "    \"avg_score\", \"max_score\", \"avg_penalty\", \"avg_wrong_tests\",\n",
        "    \"num_correct\", \"num_late\", \"num_score_status\", \"active_days\",\n",
        "    \"score_ratio\", \"correct_ratio\", \"late_ratio\",\n",
        "    \"mean_correct_rate\", \"mean_time_per_test\", \"mean_mem_per_test\"\n",
        "]\n",
        "\n",
        "X_train = train_data[X_cols]\n",
        "y_train = train_data[\"TH\"]\n",
        "X_test = test_data[X_cols]\n",
        "\n",
        "# === BƯỚC 7: RANDOM FOREST + GRIDSEARCHCV ===\n",
        "param_grid = {\n",
        "    'n_estimators': [100, 200, 300],\n",
        "    'max_depth': [8, 10, 12],\n",
        "    'min_samples_split': [2, 5, 10]\n",
        "}\n",
        "\n",
        "grid_search = GridSearchCV(\n",
        "    estimator=RandomForestRegressor(random_state=42),\n",
        "    param_grid=param_grid,\n",
        "    cv=3,\n",
        "    scoring='r2',\n",
        "    n_jobs=-1\n",
        ")\n",
        "\n",
        "grid_search.fit(X_train, y_train)\n",
        "\n",
        "print(\"Best params:\", grid_search.best_params_)\n",
        "print(\"Best R^2 score (CV):\", grid_search.best_score_)\n",
        "\n",
        "best_model = grid_search.best_estimator_\n",
        "\n"
      ],
      "metadata": {
        "colab": {
          "base_uri": "https://localhost:8080/"
        },
        "id": "eAmjPF4P0ca8",
        "outputId": "63cd532e-5a7d-4c3d-8bbe-5787c4daaabd"
      },
      "execution_count": 12,
      "outputs": [
        {
          "output_type": "stream",
          "name": "stdout",
          "text": [
            "Best params: {'max_depth': 12, 'min_samples_split': 10, 'n_estimators': 200}\n",
            "Best R^2 score (CV): 0.35425448090327144\n"
          ]
        }
      ]
    },
    {
      "cell_type": "code",
      "source": [
        "# === BƯỚC 8: DỰ ĐOÁN & XUẤT FILE ===\n",
        "test_data[\"predicted_TH\"] = best_model.predict(X_test)\n",
        "submission = test_data[[\"username\", \"predicted_TH\"]]\n",
        "submission.to_csv(\"SubEx1 - 2nd.csv\", index=False, header=False)"
      ],
      "metadata": {
        "id": "3oY1Updv1_2j"
      },
      "execution_count": 14,
      "outputs": []
    }
  ]
}