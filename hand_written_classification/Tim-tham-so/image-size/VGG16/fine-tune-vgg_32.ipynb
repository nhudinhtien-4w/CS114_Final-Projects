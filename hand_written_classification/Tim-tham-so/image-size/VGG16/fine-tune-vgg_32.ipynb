{
 "cells": [
  {
   "cell_type": "markdown",
   "id": "e0789d36",
   "metadata": {
    "papermill": {
     "duration": 0.00359,
     "end_time": "2025-06-20T10:24:01.024011",
     "exception": false,
     "start_time": "2025-06-20T10:24:01.020421",
     "status": "completed"
    },
    "tags": []
   },
   "source": [
    "1. IMPORT CÁC THƯ VIỆN CẦN THIẾT"
   ]
  },
  {
   "cell_type": "code",
   "execution_count": 31,
   "id": "9cd30b2b",
   "metadata": {
    "execution": {
     "iopub.execute_input": "2025-06-30T13:47:06.180197Z",
     "iopub.status.busy": "2025-06-30T13:47:06.179606Z",
     "iopub.status.idle": "2025-06-30T13:47:06.185107Z",
     "shell.execute_reply": "2025-06-30T13:47:06.184211Z",
     "shell.execute_reply.started": "2025-06-30T13:47:06.180175Z"
    },
    "id": "ReF06NgPVLih",
    "papermill": {
     "duration": 15.451308,
     "end_time": "2025-06-20T10:24:16.478118",
     "exception": false,
     "start_time": "2025-06-20T10:24:01.026810",
     "status": "completed"
    },
    "tags": [],
    "trusted": true
   },
   "outputs": [],
   "source": [
    "import os\n",
    "import numpy as np\n",
    "import cv2\n",
    "\n",
    "import tensorflow as tf\n",
    "import matplotlib.pyplot as plt\n",
    "from tensorflow.keras import layers, models\n",
    "from tensorflow.keras.models import load_model\n",
    "\n",
    "from tensorflow.keras.applications import VGG16\n",
    "from tensorflow.keras.layers import Flatten, Dense, Dropout\n",
    "from tensorflow.keras.models import Model\n",
    "from tensorflow.keras.optimizers import Adam\n",
    "\n",
    "from sklearn.preprocessing import LabelEncoder\n",
    "from tensorflow.keras.utils import to_categorical\n",
    "from sklearn.model_selection import train_test_split\n",
    "from tensorflow.keras.callbacks import EarlyStopping"
   ]
  },
  {
   "cell_type": "markdown",
   "id": "1dc5b151",
   "metadata": {
    "id": "Tc6ptkncVLil",
    "papermill": {
     "duration": 0.002546,
     "end_time": "2025-06-20T10:24:16.484113",
     "exception": false,
     "start_time": "2025-06-20T10:24:16.481567",
     "status": "completed"
    },
    "tags": []
   },
   "source": [
    "2. TIỀN XỬ LÝ DỮ LIỆU:"
   ]
  },
  {
   "cell_type": "code",
   "execution_count": 32,
   "id": "781f8e1b",
   "metadata": {
    "execution": {
     "iopub.execute_input": "2025-06-30T13:47:08.462458Z",
     "iopub.status.busy": "2025-06-30T13:47:08.461700Z",
     "iopub.status.idle": "2025-06-30T13:48:22.118830Z",
     "shell.execute_reply": "2025-06-30T13:48:22.117899Z",
     "shell.execute_reply.started": "2025-06-30T13:47:08.462433Z"
    },
    "id": "KumcBuOpVLim",
    "papermill": {
     "duration": 111.956559,
     "end_time": "2025-06-20T10:26:08.443359",
     "exception": false,
     "start_time": "2025-06-20T10:24:16.486800",
     "status": "completed"
    },
    "tags": [],
    "trusted": true
   },
   "outputs": [
    {
     "name": "stdout",
     "output_type": "stream",
     "text": [
      "Tổng số ảnh train: 3482\n",
      "Tổng số ảnh test: 778\n"
     ]
    }
   ],
   "source": [
    "# Load dữ liệu\n",
    "def load_dataset_from_dir(data_dir, img_size=(32,32)):\n",
    "    X, y = [], []\n",
    "    classes = sorted(d for d in os.listdir(data_dir)\n",
    "                     if os.path.isdir(os.path.join(data_dir, d)))\n",
    "    label_map = {cls:i for i,cls in enumerate(classes)}\n",
    "\n",
    "    for cls in classes:\n",
    "        cls_dir = os.path.join(data_dir, cls)\n",
    "        for fname in os.listdir(cls_dir):\n",
    "            if fname.lower().endswith(('.jpg','.jpeg','.png')):\n",
    "                path = os.path.join(cls_dir, fname)\n",
    "                img = cv2.imread(path, cv2.IMREAD_COLOR)\n",
    "                if img is None:\n",
    "                    continue\n",
    "                img = cv2.cvtColor(img, cv2.COLOR_BGR2RGB)\n",
    "                img = cv2.resize(img, img_size)                   \n",
    "                img = img.astype(np.float16) / 255.0              \n",
    "                X.append(img)\n",
    "                y.append(cls)                                     \n",
    "\n",
    "    X = np.array(X)                                         \n",
    "    y = np.array(y)\n",
    "\n",
    "    return X, y, label_map\n",
    "\n",
    "\n",
    "# Đọc dữ liệu\n",
    "dataset_path_train = '/kaggle/input/cus-hand-written/hand_written_digit/train'\n",
    "dataset_path_test = '/kaggle/input/cus-hand-written/hand_written_digit/test'\n",
    "\n",
    "X_train, y_train, label_map_train = load_dataset_from_dir(dataset_path_train, img_size=(32,32))\n",
    "X_test, y_test, label_map_test = load_dataset_from_dir(dataset_path_test, img_size=(32,32))\n",
    "print(f\"Tổng số ảnh train: {len(X_train)}\")\n",
    "print(f\"Tổng số ảnh test: {len(X_test)}\")"
   ]
  },
  {
   "cell_type": "code",
   "execution_count": 33,
   "id": "5b724b0c",
   "metadata": {
    "execution": {
     "iopub.execute_input": "2025-06-30T13:48:22.120377Z",
     "iopub.status.busy": "2025-06-30T13:48:22.120151Z",
     "iopub.status.idle": "2025-06-30T13:48:22.126701Z",
     "shell.execute_reply": "2025-06-30T13:48:22.125756Z",
     "shell.execute_reply.started": "2025-06-30T13:48:22.120357Z"
    },
    "id": "U6TbfAoxVLin",
    "outputId": "7f8ccaf6-1ac0-411f-c33a-56efea4aa01b",
    "papermill": {
     "duration": 0.012434,
     "end_time": "2025-06-20T10:26:08.458959",
     "exception": false,
     "start_time": "2025-06-20T10:26:08.446525",
     "status": "completed"
    },
    "tags": [],
    "trusted": true
   },
   "outputs": [
    {
     "name": "stdout",
     "output_type": "stream",
     "text": [
      "[0 0 0 ... 9 9 9]\n"
     ]
    }
   ],
   "source": [
    "# Encode nhãn và chia dữ liệu train/test\n",
    "le = LabelEncoder()\n",
    "y_train_num = le.fit_transform(y_train)\n",
    "y_test_num = le.fit_transform(y_test)\n",
    "num_classes = len(le.classes_)\n",
    "\n",
    "print(y_train_num)"
   ]
  },
  {
   "cell_type": "code",
   "execution_count": 34,
   "id": "15380497",
   "metadata": {
    "execution": {
     "iopub.execute_input": "2025-06-30T13:48:22.127915Z",
     "iopub.status.busy": "2025-06-30T13:48:22.127642Z",
     "iopub.status.idle": "2025-06-30T13:48:22.150150Z",
     "shell.execute_reply": "2025-06-30T13:48:22.149276Z",
     "shell.execute_reply.started": "2025-06-30T13:48:22.127898Z"
    },
    "papermill": {
     "duration": 0.018732,
     "end_time": "2025-06-20T10:26:08.480753",
     "exception": false,
     "start_time": "2025-06-20T10:26:08.462021",
     "status": "completed"
    },
    "tags": [],
    "trusted": true
   },
   "outputs": [
    {
     "name": "stdout",
     "output_type": "stream",
     "text": [
      "Số ảnh TRAIN: 2785\n",
      "Số ảnh VALIDATION: 697\n",
      "Tổng số ảnh test: 778\n"
     ]
    }
   ],
   "source": [
    "# Chia tập train-valid tỉ lệ 8-2\n",
    "X_train_sub, X_val, y_train_sub, y_val = train_test_split(\n",
    "    X_train, y_train_num, test_size=0.2, random_state=42, stratify=y_train_num\n",
    ")\n",
    "\n",
    "print(f\"Số ảnh TRAIN: {len(X_train_sub)}\")\n",
    "print(f\"Số ảnh VALIDATION: {len(X_val)}\")\n",
    "print(f\"Tổng số ảnh test: {len(X_test)}\")"
   ]
  },
  {
   "cell_type": "code",
   "execution_count": 35,
   "id": "23643686",
   "metadata": {
    "execution": {
     "iopub.execute_input": "2025-06-30T13:48:22.151592Z",
     "iopub.status.busy": "2025-06-30T13:48:22.151395Z",
     "iopub.status.idle": "2025-06-30T13:48:22.162962Z",
     "shell.execute_reply": "2025-06-30T13:48:22.162249Z",
     "shell.execute_reply.started": "2025-06-30T13:48:22.151578Z"
    },
    "papermill": {
     "duration": 0.010646,
     "end_time": "2025-06-20T10:26:08.494628",
     "exception": false,
     "start_time": "2025-06-20T10:26:08.483982",
     "status": "completed"
    },
    "tags": [],
    "trusted": true
   },
   "outputs": [
    {
     "name": "stdout",
     "output_type": "stream",
     "text": [
      "[[0. 1. 0. ... 0. 0. 0.]\n",
      " [0. 0. 0. ... 0. 0. 0.]\n",
      " [0. 0. 1. ... 0. 0. 0.]\n",
      " ...\n",
      " [0. 1. 0. ... 0. 0. 0.]\n",
      " [0. 0. 0. ... 0. 0. 0.]\n",
      " [0. 0. 0. ... 1. 0. 0.]]\n",
      "[[0. 0. 0. ... 0. 0. 0.]\n",
      " [0. 0. 0. ... 0. 0. 0.]\n",
      " [0. 0. 1. ... 0. 0. 0.]\n",
      " ...\n",
      " [0. 0. 0. ... 0. 0. 0.]\n",
      " [0. 1. 0. ... 0. 0. 0.]\n",
      " [0. 0. 0. ... 0. 0. 0.]]\n"
     ]
    }
   ],
   "source": [
    "# One-hot encode Y\n",
    "Y_train = to_categorical(y_train_sub, num_classes)\n",
    "Y_val = to_categorical(y_val, num_classes)\n",
    "Y_test = to_categorical(y_test, num_classes)\n",
    "\n",
    "print(Y_train)\n",
    "print(Y_val)"
   ]
  },
  {
   "cell_type": "markdown",
   "id": "77838178",
   "metadata": {
    "papermill": {
     "duration": 0.002781,
     "end_time": "2025-06-20T10:26:08.500464",
     "exception": false,
     "start_time": "2025-06-20T10:26:08.497683",
     "status": "completed"
    },
    "tags": []
   },
   "source": [
    "3. XÂY DỰNG MÔ HÌNH"
   ]
  },
  {
   "cell_type": "code",
   "execution_count": 6,
   "id": "ab88ff84",
   "metadata": {
    "execution": {
     "iopub.execute_input": "2025-06-20T10:26:08.507645Z",
     "iopub.status.busy": "2025-06-20T10:26:08.507428Z",
     "iopub.status.idle": "2025-06-20T10:26:11.529103Z",
     "shell.execute_reply": "2025-06-20T10:26:11.528149Z"
    },
    "id": "_c3jx6qgVLin",
    "outputId": "e65433ab-0a9d-4f2c-daec-88d520353448",
    "papermill": {
     "duration": 3.027,
     "end_time": "2025-06-20T10:26:11.530717",
     "exception": false,
     "start_time": "2025-06-20T10:26:08.503717",
     "status": "completed"
    },
    "tags": []
   },
   "outputs": [
    {
     "name": "stderr",
     "output_type": "stream",
     "text": [
      "I0000 00:00:1750415169.685448      19 gpu_device.cc:2022] Created device /job:localhost/replica:0/task:0/device:GPU:0 with 13942 MB memory:  -> device: 0, name: Tesla T4, pci bus id: 0000:00:04.0, compute capability: 7.5\n",
      "I0000 00:00:1750415169.686111      19 gpu_device.cc:2022] Created device /job:localhost/replica:0/task:0/device:GPU:1 with 13942 MB memory:  -> device: 1, name: Tesla T4, pci bus id: 0000:00:05.0, compute capability: 7.5\n"
     ]
    },
    {
     "name": "stdout",
     "output_type": "stream",
     "text": [
      "Downloading data from https://storage.googleapis.com/tensorflow/keras-applications/vgg16/vgg16_weights_tf_dim_ordering_tf_kernels_notop.h5\n",
      "\u001b[1m58889256/58889256\u001b[0m \u001b[32m━━━━━━━━━━━━━━━━━━━━\u001b[0m\u001b[37m\u001b[0m \u001b[1m0s\u001b[0m 0us/step\n"
     ]
    }
   ],
   "source": [
    "# Load mô hình VGG16 đã huấn luyện trước\n",
    "vgg16 = VGG16(weights='imagenet', include_top=False, input_shape=(32, 32, 3))\n",
    "\n",
    "# Đóng băng các lớp của VGG16 (chỉ fine-tune các lớp mới)\n",
    "for layer in vgg16.layers:\n",
    "    layer.trainable = False  # Các lớp của VGG16 sẽ không được huấn luyện lại\n",
    "\n",
    "# Thêm các lớp mới cho bài toán phân loại\n",
    "x = Flatten()(vgg16.output)  # Biến đầu ra thành một vector\n",
    "x = Dense(256, activation='relu')(x)  # Lớp Fully Connected\n",
    "x = Dropout(0.5)(x)  # Dropout để giảm overfitting\n",
    "output = Dense(num_classes, activation='softmax')(x)  # Lớp phân loại"
   ]
  },
  {
   "cell_type": "code",
   "execution_count": 7,
   "id": "4b563656",
   "metadata": {
    "execution": {
     "iopub.execute_input": "2025-06-20T10:26:11.539178Z",
     "iopub.status.busy": "2025-06-20T10:26:11.538904Z",
     "iopub.status.idle": "2025-06-20T10:26:11.586003Z",
     "shell.execute_reply": "2025-06-20T10:26:11.585242Z"
    },
    "id": "zWAevSRpVLio",
    "outputId": "06f87b34-874a-41a3-8a26-b12a9aba4051",
    "papermill": {
     "duration": 0.052863,
     "end_time": "2025-06-20T10:26:11.587591",
     "exception": false,
     "start_time": "2025-06-20T10:26:11.534728",
     "status": "completed"
    },
    "tags": []
   },
   "outputs": [
    {
     "data": {
      "text/html": [
       "<pre style=\"white-space:pre;overflow-x:auto;line-height:normal;font-family:Menlo,'DejaVu Sans Mono',consolas,'Courier New',monospace\"><span style=\"font-weight: bold\">Model: \"functional\"</span>\n",
       "</pre>\n"
      ],
      "text/plain": [
       "\u001b[1mModel: \"functional\"\u001b[0m\n"
      ]
     },
     "metadata": {},
     "output_type": "display_data"
    },
    {
     "data": {
      "text/html": [
       "<pre style=\"white-space:pre;overflow-x:auto;line-height:normal;font-family:Menlo,'DejaVu Sans Mono',consolas,'Courier New',monospace\">┏━━━━━━━━━━━━━━━━━━━━━━━━━━━━━━━━━━━━━━┳━━━━━━━━━━━━━━━━━━━━━━━━━━━━━┳━━━━━━━━━━━━━━━━━┓\n",
       "┃<span style=\"font-weight: bold\"> Layer (type)                         </span>┃<span style=\"font-weight: bold\"> Output Shape                </span>┃<span style=\"font-weight: bold\">         Param # </span>┃\n",
       "┡━━━━━━━━━━━━━━━━━━━━━━━━━━━━━━━━━━━━━━╇━━━━━━━━━━━━━━━━━━━━━━━━━━━━━╇━━━━━━━━━━━━━━━━━┩\n",
       "│ input_layer (<span style=\"color: #0087ff; text-decoration-color: #0087ff\">InputLayer</span>)             │ (<span style=\"color: #00d7ff; text-decoration-color: #00d7ff\">None</span>, <span style=\"color: #00af00; text-decoration-color: #00af00\">32</span>, <span style=\"color: #00af00; text-decoration-color: #00af00\">32</span>, <span style=\"color: #00af00; text-decoration-color: #00af00\">3</span>)           │               <span style=\"color: #00af00; text-decoration-color: #00af00\">0</span> │\n",
       "├──────────────────────────────────────┼─────────────────────────────┼─────────────────┤\n",
       "│ block1_conv1 (<span style=\"color: #0087ff; text-decoration-color: #0087ff\">Conv2D</span>)                │ (<span style=\"color: #00d7ff; text-decoration-color: #00d7ff\">None</span>, <span style=\"color: #00af00; text-decoration-color: #00af00\">32</span>, <span style=\"color: #00af00; text-decoration-color: #00af00\">32</span>, <span style=\"color: #00af00; text-decoration-color: #00af00\">64</span>)          │           <span style=\"color: #00af00; text-decoration-color: #00af00\">1,792</span> │\n",
       "├──────────────────────────────────────┼─────────────────────────────┼─────────────────┤\n",
       "│ block1_conv2 (<span style=\"color: #0087ff; text-decoration-color: #0087ff\">Conv2D</span>)                │ (<span style=\"color: #00d7ff; text-decoration-color: #00d7ff\">None</span>, <span style=\"color: #00af00; text-decoration-color: #00af00\">32</span>, <span style=\"color: #00af00; text-decoration-color: #00af00\">32</span>, <span style=\"color: #00af00; text-decoration-color: #00af00\">64</span>)          │          <span style=\"color: #00af00; text-decoration-color: #00af00\">36,928</span> │\n",
       "├──────────────────────────────────────┼─────────────────────────────┼─────────────────┤\n",
       "│ block1_pool (<span style=\"color: #0087ff; text-decoration-color: #0087ff\">MaxPooling2D</span>)           │ (<span style=\"color: #00d7ff; text-decoration-color: #00d7ff\">None</span>, <span style=\"color: #00af00; text-decoration-color: #00af00\">16</span>, <span style=\"color: #00af00; text-decoration-color: #00af00\">16</span>, <span style=\"color: #00af00; text-decoration-color: #00af00\">64</span>)          │               <span style=\"color: #00af00; text-decoration-color: #00af00\">0</span> │\n",
       "├──────────────────────────────────────┼─────────────────────────────┼─────────────────┤\n",
       "│ block2_conv1 (<span style=\"color: #0087ff; text-decoration-color: #0087ff\">Conv2D</span>)                │ (<span style=\"color: #00d7ff; text-decoration-color: #00d7ff\">None</span>, <span style=\"color: #00af00; text-decoration-color: #00af00\">16</span>, <span style=\"color: #00af00; text-decoration-color: #00af00\">16</span>, <span style=\"color: #00af00; text-decoration-color: #00af00\">128</span>)         │          <span style=\"color: #00af00; text-decoration-color: #00af00\">73,856</span> │\n",
       "├──────────────────────────────────────┼─────────────────────────────┼─────────────────┤\n",
       "│ block2_conv2 (<span style=\"color: #0087ff; text-decoration-color: #0087ff\">Conv2D</span>)                │ (<span style=\"color: #00d7ff; text-decoration-color: #00d7ff\">None</span>, <span style=\"color: #00af00; text-decoration-color: #00af00\">16</span>, <span style=\"color: #00af00; text-decoration-color: #00af00\">16</span>, <span style=\"color: #00af00; text-decoration-color: #00af00\">128</span>)         │         <span style=\"color: #00af00; text-decoration-color: #00af00\">147,584</span> │\n",
       "├──────────────────────────────────────┼─────────────────────────────┼─────────────────┤\n",
       "│ block2_pool (<span style=\"color: #0087ff; text-decoration-color: #0087ff\">MaxPooling2D</span>)           │ (<span style=\"color: #00d7ff; text-decoration-color: #00d7ff\">None</span>, <span style=\"color: #00af00; text-decoration-color: #00af00\">8</span>, <span style=\"color: #00af00; text-decoration-color: #00af00\">8</span>, <span style=\"color: #00af00; text-decoration-color: #00af00\">128</span>)           │               <span style=\"color: #00af00; text-decoration-color: #00af00\">0</span> │\n",
       "├──────────────────────────────────────┼─────────────────────────────┼─────────────────┤\n",
       "│ block3_conv1 (<span style=\"color: #0087ff; text-decoration-color: #0087ff\">Conv2D</span>)                │ (<span style=\"color: #00d7ff; text-decoration-color: #00d7ff\">None</span>, <span style=\"color: #00af00; text-decoration-color: #00af00\">8</span>, <span style=\"color: #00af00; text-decoration-color: #00af00\">8</span>, <span style=\"color: #00af00; text-decoration-color: #00af00\">256</span>)           │         <span style=\"color: #00af00; text-decoration-color: #00af00\">295,168</span> │\n",
       "├──────────────────────────────────────┼─────────────────────────────┼─────────────────┤\n",
       "│ block3_conv2 (<span style=\"color: #0087ff; text-decoration-color: #0087ff\">Conv2D</span>)                │ (<span style=\"color: #00d7ff; text-decoration-color: #00d7ff\">None</span>, <span style=\"color: #00af00; text-decoration-color: #00af00\">8</span>, <span style=\"color: #00af00; text-decoration-color: #00af00\">8</span>, <span style=\"color: #00af00; text-decoration-color: #00af00\">256</span>)           │         <span style=\"color: #00af00; text-decoration-color: #00af00\">590,080</span> │\n",
       "├──────────────────────────────────────┼─────────────────────────────┼─────────────────┤\n",
       "│ block3_conv3 (<span style=\"color: #0087ff; text-decoration-color: #0087ff\">Conv2D</span>)                │ (<span style=\"color: #00d7ff; text-decoration-color: #00d7ff\">None</span>, <span style=\"color: #00af00; text-decoration-color: #00af00\">8</span>, <span style=\"color: #00af00; text-decoration-color: #00af00\">8</span>, <span style=\"color: #00af00; text-decoration-color: #00af00\">256</span>)           │         <span style=\"color: #00af00; text-decoration-color: #00af00\">590,080</span> │\n",
       "├──────────────────────────────────────┼─────────────────────────────┼─────────────────┤\n",
       "│ block3_pool (<span style=\"color: #0087ff; text-decoration-color: #0087ff\">MaxPooling2D</span>)           │ (<span style=\"color: #00d7ff; text-decoration-color: #00d7ff\">None</span>, <span style=\"color: #00af00; text-decoration-color: #00af00\">4</span>, <span style=\"color: #00af00; text-decoration-color: #00af00\">4</span>, <span style=\"color: #00af00; text-decoration-color: #00af00\">256</span>)           │               <span style=\"color: #00af00; text-decoration-color: #00af00\">0</span> │\n",
       "├──────────────────────────────────────┼─────────────────────────────┼─────────────────┤\n",
       "│ block4_conv1 (<span style=\"color: #0087ff; text-decoration-color: #0087ff\">Conv2D</span>)                │ (<span style=\"color: #00d7ff; text-decoration-color: #00d7ff\">None</span>, <span style=\"color: #00af00; text-decoration-color: #00af00\">4</span>, <span style=\"color: #00af00; text-decoration-color: #00af00\">4</span>, <span style=\"color: #00af00; text-decoration-color: #00af00\">512</span>)           │       <span style=\"color: #00af00; text-decoration-color: #00af00\">1,180,160</span> │\n",
       "├──────────────────────────────────────┼─────────────────────────────┼─────────────────┤\n",
       "│ block4_conv2 (<span style=\"color: #0087ff; text-decoration-color: #0087ff\">Conv2D</span>)                │ (<span style=\"color: #00d7ff; text-decoration-color: #00d7ff\">None</span>, <span style=\"color: #00af00; text-decoration-color: #00af00\">4</span>, <span style=\"color: #00af00; text-decoration-color: #00af00\">4</span>, <span style=\"color: #00af00; text-decoration-color: #00af00\">512</span>)           │       <span style=\"color: #00af00; text-decoration-color: #00af00\">2,359,808</span> │\n",
       "├──────────────────────────────────────┼─────────────────────────────┼─────────────────┤\n",
       "│ block4_conv3 (<span style=\"color: #0087ff; text-decoration-color: #0087ff\">Conv2D</span>)                │ (<span style=\"color: #00d7ff; text-decoration-color: #00d7ff\">None</span>, <span style=\"color: #00af00; text-decoration-color: #00af00\">4</span>, <span style=\"color: #00af00; text-decoration-color: #00af00\">4</span>, <span style=\"color: #00af00; text-decoration-color: #00af00\">512</span>)           │       <span style=\"color: #00af00; text-decoration-color: #00af00\">2,359,808</span> │\n",
       "├──────────────────────────────────────┼─────────────────────────────┼─────────────────┤\n",
       "│ block4_pool (<span style=\"color: #0087ff; text-decoration-color: #0087ff\">MaxPooling2D</span>)           │ (<span style=\"color: #00d7ff; text-decoration-color: #00d7ff\">None</span>, <span style=\"color: #00af00; text-decoration-color: #00af00\">2</span>, <span style=\"color: #00af00; text-decoration-color: #00af00\">2</span>, <span style=\"color: #00af00; text-decoration-color: #00af00\">512</span>)           │               <span style=\"color: #00af00; text-decoration-color: #00af00\">0</span> │\n",
       "├──────────────────────────────────────┼─────────────────────────────┼─────────────────┤\n",
       "│ block5_conv1 (<span style=\"color: #0087ff; text-decoration-color: #0087ff\">Conv2D</span>)                │ (<span style=\"color: #00d7ff; text-decoration-color: #00d7ff\">None</span>, <span style=\"color: #00af00; text-decoration-color: #00af00\">2</span>, <span style=\"color: #00af00; text-decoration-color: #00af00\">2</span>, <span style=\"color: #00af00; text-decoration-color: #00af00\">512</span>)           │       <span style=\"color: #00af00; text-decoration-color: #00af00\">2,359,808</span> │\n",
       "├──────────────────────────────────────┼─────────────────────────────┼─────────────────┤\n",
       "│ block5_conv2 (<span style=\"color: #0087ff; text-decoration-color: #0087ff\">Conv2D</span>)                │ (<span style=\"color: #00d7ff; text-decoration-color: #00d7ff\">None</span>, <span style=\"color: #00af00; text-decoration-color: #00af00\">2</span>, <span style=\"color: #00af00; text-decoration-color: #00af00\">2</span>, <span style=\"color: #00af00; text-decoration-color: #00af00\">512</span>)           │       <span style=\"color: #00af00; text-decoration-color: #00af00\">2,359,808</span> │\n",
       "├──────────────────────────────────────┼─────────────────────────────┼─────────────────┤\n",
       "│ block5_conv3 (<span style=\"color: #0087ff; text-decoration-color: #0087ff\">Conv2D</span>)                │ (<span style=\"color: #00d7ff; text-decoration-color: #00d7ff\">None</span>, <span style=\"color: #00af00; text-decoration-color: #00af00\">2</span>, <span style=\"color: #00af00; text-decoration-color: #00af00\">2</span>, <span style=\"color: #00af00; text-decoration-color: #00af00\">512</span>)           │       <span style=\"color: #00af00; text-decoration-color: #00af00\">2,359,808</span> │\n",
       "├──────────────────────────────────────┼─────────────────────────────┼─────────────────┤\n",
       "│ block5_pool (<span style=\"color: #0087ff; text-decoration-color: #0087ff\">MaxPooling2D</span>)           │ (<span style=\"color: #00d7ff; text-decoration-color: #00d7ff\">None</span>, <span style=\"color: #00af00; text-decoration-color: #00af00\">1</span>, <span style=\"color: #00af00; text-decoration-color: #00af00\">1</span>, <span style=\"color: #00af00; text-decoration-color: #00af00\">512</span>)           │               <span style=\"color: #00af00; text-decoration-color: #00af00\">0</span> │\n",
       "├──────────────────────────────────────┼─────────────────────────────┼─────────────────┤\n",
       "│ flatten (<span style=\"color: #0087ff; text-decoration-color: #0087ff\">Flatten</span>)                    │ (<span style=\"color: #00d7ff; text-decoration-color: #00d7ff\">None</span>, <span style=\"color: #00af00; text-decoration-color: #00af00\">512</span>)                 │               <span style=\"color: #00af00; text-decoration-color: #00af00\">0</span> │\n",
       "├──────────────────────────────────────┼─────────────────────────────┼─────────────────┤\n",
       "│ dense (<span style=\"color: #0087ff; text-decoration-color: #0087ff\">Dense</span>)                        │ (<span style=\"color: #00d7ff; text-decoration-color: #00d7ff\">None</span>, <span style=\"color: #00af00; text-decoration-color: #00af00\">256</span>)                 │         <span style=\"color: #00af00; text-decoration-color: #00af00\">131,328</span> │\n",
       "├──────────────────────────────────────┼─────────────────────────────┼─────────────────┤\n",
       "│ dropout (<span style=\"color: #0087ff; text-decoration-color: #0087ff\">Dropout</span>)                    │ (<span style=\"color: #00d7ff; text-decoration-color: #00d7ff\">None</span>, <span style=\"color: #00af00; text-decoration-color: #00af00\">256</span>)                 │               <span style=\"color: #00af00; text-decoration-color: #00af00\">0</span> │\n",
       "├──────────────────────────────────────┼─────────────────────────────┼─────────────────┤\n",
       "│ dense_1 (<span style=\"color: #0087ff; text-decoration-color: #0087ff\">Dense</span>)                      │ (<span style=\"color: #00d7ff; text-decoration-color: #00d7ff\">None</span>, <span style=\"color: #00af00; text-decoration-color: #00af00\">10</span>)                  │           <span style=\"color: #00af00; text-decoration-color: #00af00\">2,570</span> │\n",
       "└──────────────────────────────────────┴─────────────────────────────┴─────────────────┘\n",
       "</pre>\n"
      ],
      "text/plain": [
       "┏━━━━━━━━━━━━━━━━━━━━━━━━━━━━━━━━━━━━━━┳━━━━━━━━━━━━━━━━━━━━━━━━━━━━━┳━━━━━━━━━━━━━━━━━┓\n",
       "┃\u001b[1m \u001b[0m\u001b[1mLayer (type)                        \u001b[0m\u001b[1m \u001b[0m┃\u001b[1m \u001b[0m\u001b[1mOutput Shape               \u001b[0m\u001b[1m \u001b[0m┃\u001b[1m \u001b[0m\u001b[1m        Param #\u001b[0m\u001b[1m \u001b[0m┃\n",
       "┡━━━━━━━━━━━━━━━━━━━━━━━━━━━━━━━━━━━━━━╇━━━━━━━━━━━━━━━━━━━━━━━━━━━━━╇━━━━━━━━━━━━━━━━━┩\n",
       "│ input_layer (\u001b[38;5;33mInputLayer\u001b[0m)             │ (\u001b[38;5;45mNone\u001b[0m, \u001b[38;5;34m32\u001b[0m, \u001b[38;5;34m32\u001b[0m, \u001b[38;5;34m3\u001b[0m)           │               \u001b[38;5;34m0\u001b[0m │\n",
       "├──────────────────────────────────────┼─────────────────────────────┼─────────────────┤\n",
       "│ block1_conv1 (\u001b[38;5;33mConv2D\u001b[0m)                │ (\u001b[38;5;45mNone\u001b[0m, \u001b[38;5;34m32\u001b[0m, \u001b[38;5;34m32\u001b[0m, \u001b[38;5;34m64\u001b[0m)          │           \u001b[38;5;34m1,792\u001b[0m │\n",
       "├──────────────────────────────────────┼─────────────────────────────┼─────────────────┤\n",
       "│ block1_conv2 (\u001b[38;5;33mConv2D\u001b[0m)                │ (\u001b[38;5;45mNone\u001b[0m, \u001b[38;5;34m32\u001b[0m, \u001b[38;5;34m32\u001b[0m, \u001b[38;5;34m64\u001b[0m)          │          \u001b[38;5;34m36,928\u001b[0m │\n",
       "├──────────────────────────────────────┼─────────────────────────────┼─────────────────┤\n",
       "│ block1_pool (\u001b[38;5;33mMaxPooling2D\u001b[0m)           │ (\u001b[38;5;45mNone\u001b[0m, \u001b[38;5;34m16\u001b[0m, \u001b[38;5;34m16\u001b[0m, \u001b[38;5;34m64\u001b[0m)          │               \u001b[38;5;34m0\u001b[0m │\n",
       "├──────────────────────────────────────┼─────────────────────────────┼─────────────────┤\n",
       "│ block2_conv1 (\u001b[38;5;33mConv2D\u001b[0m)                │ (\u001b[38;5;45mNone\u001b[0m, \u001b[38;5;34m16\u001b[0m, \u001b[38;5;34m16\u001b[0m, \u001b[38;5;34m128\u001b[0m)         │          \u001b[38;5;34m73,856\u001b[0m │\n",
       "├──────────────────────────────────────┼─────────────────────────────┼─────────────────┤\n",
       "│ block2_conv2 (\u001b[38;5;33mConv2D\u001b[0m)                │ (\u001b[38;5;45mNone\u001b[0m, \u001b[38;5;34m16\u001b[0m, \u001b[38;5;34m16\u001b[0m, \u001b[38;5;34m128\u001b[0m)         │         \u001b[38;5;34m147,584\u001b[0m │\n",
       "├──────────────────────────────────────┼─────────────────────────────┼─────────────────┤\n",
       "│ block2_pool (\u001b[38;5;33mMaxPooling2D\u001b[0m)           │ (\u001b[38;5;45mNone\u001b[0m, \u001b[38;5;34m8\u001b[0m, \u001b[38;5;34m8\u001b[0m, \u001b[38;5;34m128\u001b[0m)           │               \u001b[38;5;34m0\u001b[0m │\n",
       "├──────────────────────────────────────┼─────────────────────────────┼─────────────────┤\n",
       "│ block3_conv1 (\u001b[38;5;33mConv2D\u001b[0m)                │ (\u001b[38;5;45mNone\u001b[0m, \u001b[38;5;34m8\u001b[0m, \u001b[38;5;34m8\u001b[0m, \u001b[38;5;34m256\u001b[0m)           │         \u001b[38;5;34m295,168\u001b[0m │\n",
       "├──────────────────────────────────────┼─────────────────────────────┼─────────────────┤\n",
       "│ block3_conv2 (\u001b[38;5;33mConv2D\u001b[0m)                │ (\u001b[38;5;45mNone\u001b[0m, \u001b[38;5;34m8\u001b[0m, \u001b[38;5;34m8\u001b[0m, \u001b[38;5;34m256\u001b[0m)           │         \u001b[38;5;34m590,080\u001b[0m │\n",
       "├──────────────────────────────────────┼─────────────────────────────┼─────────────────┤\n",
       "│ block3_conv3 (\u001b[38;5;33mConv2D\u001b[0m)                │ (\u001b[38;5;45mNone\u001b[0m, \u001b[38;5;34m8\u001b[0m, \u001b[38;5;34m8\u001b[0m, \u001b[38;5;34m256\u001b[0m)           │         \u001b[38;5;34m590,080\u001b[0m │\n",
       "├──────────────────────────────────────┼─────────────────────────────┼─────────────────┤\n",
       "│ block3_pool (\u001b[38;5;33mMaxPooling2D\u001b[0m)           │ (\u001b[38;5;45mNone\u001b[0m, \u001b[38;5;34m4\u001b[0m, \u001b[38;5;34m4\u001b[0m, \u001b[38;5;34m256\u001b[0m)           │               \u001b[38;5;34m0\u001b[0m │\n",
       "├──────────────────────────────────────┼─────────────────────────────┼─────────────────┤\n",
       "│ block4_conv1 (\u001b[38;5;33mConv2D\u001b[0m)                │ (\u001b[38;5;45mNone\u001b[0m, \u001b[38;5;34m4\u001b[0m, \u001b[38;5;34m4\u001b[0m, \u001b[38;5;34m512\u001b[0m)           │       \u001b[38;5;34m1,180,160\u001b[0m │\n",
       "├──────────────────────────────────────┼─────────────────────────────┼─────────────────┤\n",
       "│ block4_conv2 (\u001b[38;5;33mConv2D\u001b[0m)                │ (\u001b[38;5;45mNone\u001b[0m, \u001b[38;5;34m4\u001b[0m, \u001b[38;5;34m4\u001b[0m, \u001b[38;5;34m512\u001b[0m)           │       \u001b[38;5;34m2,359,808\u001b[0m │\n",
       "├──────────────────────────────────────┼─────────────────────────────┼─────────────────┤\n",
       "│ block4_conv3 (\u001b[38;5;33mConv2D\u001b[0m)                │ (\u001b[38;5;45mNone\u001b[0m, \u001b[38;5;34m4\u001b[0m, \u001b[38;5;34m4\u001b[0m, \u001b[38;5;34m512\u001b[0m)           │       \u001b[38;5;34m2,359,808\u001b[0m │\n",
       "├──────────────────────────────────────┼─────────────────────────────┼─────────────────┤\n",
       "│ block4_pool (\u001b[38;5;33mMaxPooling2D\u001b[0m)           │ (\u001b[38;5;45mNone\u001b[0m, \u001b[38;5;34m2\u001b[0m, \u001b[38;5;34m2\u001b[0m, \u001b[38;5;34m512\u001b[0m)           │               \u001b[38;5;34m0\u001b[0m │\n",
       "├──────────────────────────────────────┼─────────────────────────────┼─────────────────┤\n",
       "│ block5_conv1 (\u001b[38;5;33mConv2D\u001b[0m)                │ (\u001b[38;5;45mNone\u001b[0m, \u001b[38;5;34m2\u001b[0m, \u001b[38;5;34m2\u001b[0m, \u001b[38;5;34m512\u001b[0m)           │       \u001b[38;5;34m2,359,808\u001b[0m │\n",
       "├──────────────────────────────────────┼─────────────────────────────┼─────────────────┤\n",
       "│ block5_conv2 (\u001b[38;5;33mConv2D\u001b[0m)                │ (\u001b[38;5;45mNone\u001b[0m, \u001b[38;5;34m2\u001b[0m, \u001b[38;5;34m2\u001b[0m, \u001b[38;5;34m512\u001b[0m)           │       \u001b[38;5;34m2,359,808\u001b[0m │\n",
       "├──────────────────────────────────────┼─────────────────────────────┼─────────────────┤\n",
       "│ block5_conv3 (\u001b[38;5;33mConv2D\u001b[0m)                │ (\u001b[38;5;45mNone\u001b[0m, \u001b[38;5;34m2\u001b[0m, \u001b[38;5;34m2\u001b[0m, \u001b[38;5;34m512\u001b[0m)           │       \u001b[38;5;34m2,359,808\u001b[0m │\n",
       "├──────────────────────────────────────┼─────────────────────────────┼─────────────────┤\n",
       "│ block5_pool (\u001b[38;5;33mMaxPooling2D\u001b[0m)           │ (\u001b[38;5;45mNone\u001b[0m, \u001b[38;5;34m1\u001b[0m, \u001b[38;5;34m1\u001b[0m, \u001b[38;5;34m512\u001b[0m)           │               \u001b[38;5;34m0\u001b[0m │\n",
       "├──────────────────────────────────────┼─────────────────────────────┼─────────────────┤\n",
       "│ flatten (\u001b[38;5;33mFlatten\u001b[0m)                    │ (\u001b[38;5;45mNone\u001b[0m, \u001b[38;5;34m512\u001b[0m)                 │               \u001b[38;5;34m0\u001b[0m │\n",
       "├──────────────────────────────────────┼─────────────────────────────┼─────────────────┤\n",
       "│ dense (\u001b[38;5;33mDense\u001b[0m)                        │ (\u001b[38;5;45mNone\u001b[0m, \u001b[38;5;34m256\u001b[0m)                 │         \u001b[38;5;34m131,328\u001b[0m │\n",
       "├──────────────────────────────────────┼─────────────────────────────┼─────────────────┤\n",
       "│ dropout (\u001b[38;5;33mDropout\u001b[0m)                    │ (\u001b[38;5;45mNone\u001b[0m, \u001b[38;5;34m256\u001b[0m)                 │               \u001b[38;5;34m0\u001b[0m │\n",
       "├──────────────────────────────────────┼─────────────────────────────┼─────────────────┤\n",
       "│ dense_1 (\u001b[38;5;33mDense\u001b[0m)                      │ (\u001b[38;5;45mNone\u001b[0m, \u001b[38;5;34m10\u001b[0m)                  │           \u001b[38;5;34m2,570\u001b[0m │\n",
       "└──────────────────────────────────────┴─────────────────────────────┴─────────────────┘\n"
      ]
     },
     "metadata": {},
     "output_type": "display_data"
    },
    {
     "data": {
      "text/html": [
       "<pre style=\"white-space:pre;overflow-x:auto;line-height:normal;font-family:Menlo,'DejaVu Sans Mono',consolas,'Courier New',monospace\"><span style=\"font-weight: bold\"> Total params: </span><span style=\"color: #00af00; text-decoration-color: #00af00\">14,848,586</span> (56.64 MB)\n",
       "</pre>\n"
      ],
      "text/plain": [
       "\u001b[1m Total params: \u001b[0m\u001b[38;5;34m14,848,586\u001b[0m (56.64 MB)\n"
      ]
     },
     "metadata": {},
     "output_type": "display_data"
    },
    {
     "data": {
      "text/html": [
       "<pre style=\"white-space:pre;overflow-x:auto;line-height:normal;font-family:Menlo,'DejaVu Sans Mono',consolas,'Courier New',monospace\"><span style=\"font-weight: bold\"> Trainable params: </span><span style=\"color: #00af00; text-decoration-color: #00af00\">133,898</span> (523.04 KB)\n",
       "</pre>\n"
      ],
      "text/plain": [
       "\u001b[1m Trainable params: \u001b[0m\u001b[38;5;34m133,898\u001b[0m (523.04 KB)\n"
      ]
     },
     "metadata": {},
     "output_type": "display_data"
    },
    {
     "data": {
      "text/html": [
       "<pre style=\"white-space:pre;overflow-x:auto;line-height:normal;font-family:Menlo,'DejaVu Sans Mono',consolas,'Courier New',monospace\"><span style=\"font-weight: bold\"> Non-trainable params: </span><span style=\"color: #00af00; text-decoration-color: #00af00\">14,714,688</span> (56.13 MB)\n",
       "</pre>\n"
      ],
      "text/plain": [
       "\u001b[1m Non-trainable params: \u001b[0m\u001b[38;5;34m14,714,688\u001b[0m (56.13 MB)\n"
      ]
     },
     "metadata": {},
     "output_type": "display_data"
    }
   ],
   "source": [
    "# Tạo mô hình mới từ VGG16 + các lớp phân loại mới\n",
    "model = Model(inputs=vgg16.input, outputs=output)\n",
    "\n",
    "# Tóm tắt mô hình\n",
    "model.summary()\n",
    "\n",
    "# Compile mô hình\n",
    "model.compile(optimizer=Adam(), loss='categorical_crossentropy', metrics=['accuracy'])\n",
    "\n",
    "# Callback cho việc dừng sớm nếu mô hình không cải thiện\n",
    "callbacks = [EarlyStopping(monitor='val_loss', patience=5, restore_best_weights=True)]"
   ]
  },
  {
   "cell_type": "markdown",
   "id": "f54afe94",
   "metadata": {
    "id": "UnuqYGtqVLio",
    "papermill": {
     "duration": 0.004029,
     "end_time": "2025-06-20T10:26:11.596734",
     "exception": false,
     "start_time": "2025-06-20T10:26:11.592705",
     "status": "completed"
    },
    "tags": []
   },
   "source": [
    "4. HUẤN LUYỆN MÔ HÌNH CNN"
   ]
  },
  {
   "cell_type": "code",
   "execution_count": null,
   "id": "487a102c",
   "metadata": {
    "execution": {
     "iopub.execute_input": "2025-06-20T10:26:11.609604Z",
     "iopub.status.busy": "2025-06-20T10:26:11.608498Z",
     "iopub.status.idle": "2025-06-20T10:27:14.216907Z",
     "shell.execute_reply": "2025-06-20T10:27:14.216051Z"
    },
    "id": "h-LJx3zmVLio",
    "outputId": "835709cb-f161-425e-c9f1-c754daedab30",
    "papermill": {
     "duration": 62.617084,
     "end_time": "2025-06-20T10:27:14.218345",
     "exception": false,
     "start_time": "2025-06-20T10:26:11.601261",
     "status": "completed"
    },
    "tags": []
   },
   "outputs": [
    {
     "name": "stdout",
     "output_type": "stream",
     "text": [
      "Epoch 1/500\n"
     ]
    },
    {
     "name": "stderr",
     "output_type": "stream",
     "text": [
      "WARNING: All log messages before absl::InitializeLog() is called are written to STDERR\n",
      "I0000 00:00:1750415173.748666      65 service.cc:148] XLA service 0x7bd0e8009790 initialized for platform CUDA (this does not guarantee that XLA will be used). Devices:\n",
      "I0000 00:00:1750415173.748999      65 service.cc:156]   StreamExecutor device (0): Tesla T4, Compute Capability 7.5\n",
      "I0000 00:00:1750415173.749022      65 service.cc:156]   StreamExecutor device (1): Tesla T4, Compute Capability 7.5\n",
      "I0000 00:00:1750415174.120407      65 cuda_dnn.cc:529] Loaded cuDNN version 90300\n"
     ]
    },
    {
     "name": "stdout",
     "output_type": "stream",
     "text": [
      "\u001b[1m22/88\u001b[0m \u001b[32m━━━━━\u001b[0m\u001b[37m━━━━━━━━━━━━━━━\u001b[0m \u001b[1m0s\u001b[0m 8ms/step - accuracy: 0.0934 - loss: 2.5124"
     ]
    },
    {
     "name": "stderr",
     "output_type": "stream",
     "text": [
      "I0000 00:00:1750415176.933338      65 device_compiler.h:188] Compiled cluster using XLA!  This line is logged at most once for the lifetime of the process.\n"
     ]
    },
    {
     "name": "stdout",
     "output_type": "stream",
     "text": [
      "\u001b[1m88/88\u001b[0m \u001b[32m━━━━━━━━━━━━━━━━━━━━\u001b[0m\u001b[37m\u001b[0m \u001b[1m10s\u001b[0m 59ms/step - accuracy: 0.1182 - loss: 2.3993 - val_accuracy: 0.2224 - val_loss: 2.1559\n",
      "Epoch 2/500\n",
      "\u001b[1m88/88\u001b[0m \u001b[32m━━━━━━━━━━━━━━━━━━━━\u001b[0m\u001b[37m\u001b[0m \u001b[1m1s\u001b[0m 11ms/step - accuracy: 0.1976 - loss: 2.1596 - val_accuracy: 0.2726 - val_loss: 2.0693\n",
      "Epoch 3/500\n",
      "\u001b[1m88/88\u001b[0m \u001b[32m━━━━━━━━━━━━━━━━━━━━\u001b[0m\u001b[37m\u001b[0m \u001b[1m1s\u001b[0m 10ms/step - accuracy: 0.2084 - loss: 2.1046 - val_accuracy: 0.2812 - val_loss: 2.0048\n",
      "Epoch 4/500\n",
      "\u001b[1m88/88\u001b[0m \u001b[32m━━━━━━━━━━━━━━━━━━━━\u001b[0m\u001b[37m\u001b[0m \u001b[1m1s\u001b[0m 10ms/step - accuracy: 0.2478 - loss: 2.0434 - val_accuracy: 0.3085 - val_loss: 1.9710\n",
      "Epoch 5/500\n",
      "\u001b[1m88/88\u001b[0m \u001b[32m━━━━━━━━━━━━━━━━━━━━\u001b[0m\u001b[37m\u001b[0m \u001b[1m1s\u001b[0m 10ms/step - accuracy: 0.2774 - loss: 1.9755 - val_accuracy: 0.2970 - val_loss: 1.9237\n",
      "Epoch 6/500\n",
      "\u001b[1m88/88\u001b[0m \u001b[32m━━━━━━━━━━━━━━━━━━━━\u001b[0m\u001b[37m\u001b[0m \u001b[1m1s\u001b[0m 10ms/step - accuracy: 0.2981 - loss: 1.9172 - val_accuracy: 0.3271 - val_loss: 1.8773\n",
      "Epoch 7/500\n",
      "\u001b[1m88/88\u001b[0m \u001b[32m━━━━━━━━━━━━━━━━━━━━\u001b[0m\u001b[37m\u001b[0m \u001b[1m1s\u001b[0m 11ms/step - accuracy: 0.3242 - loss: 1.9101 - val_accuracy: 0.3386 - val_loss: 1.8445\n",
      "Epoch 8/500\n",
      "\u001b[1m88/88\u001b[0m \u001b[32m━━━━━━━━━━━━━━━━━━━━\u001b[0m\u001b[37m\u001b[0m \u001b[1m1s\u001b[0m 10ms/step - accuracy: 0.3367 - loss: 1.8763 - val_accuracy: 0.3759 - val_loss: 1.8179\n",
      "Epoch 9/500\n",
      "\u001b[1m88/88\u001b[0m \u001b[32m━━━━━━━━━━━━━━━━━━━━\u001b[0m\u001b[37m\u001b[0m \u001b[1m1s\u001b[0m 10ms/step - accuracy: 0.3528 - loss: 1.8104 - val_accuracy: 0.3587 - val_loss: 1.8095\n",
      "Epoch 10/500\n",
      "\u001b[1m88/88\u001b[0m \u001b[32m━━━━━━━━━━━━━━━━━━━━\u001b[0m\u001b[37m\u001b[0m \u001b[1m1s\u001b[0m 10ms/step - accuracy: 0.3795 - loss: 1.7729 - val_accuracy: 0.3630 - val_loss: 1.7902\n",
      "Epoch 11/500\n",
      "\u001b[1m88/88\u001b[0m \u001b[32m━━━━━━━━━━━━━━━━━━━━\u001b[0m\u001b[37m\u001b[0m \u001b[1m1s\u001b[0m 11ms/step - accuracy: 0.3663 - loss: 1.7707 - val_accuracy: 0.3745 - val_loss: 1.7561\n",
      "Epoch 12/500\n",
      "\u001b[1m88/88\u001b[0m \u001b[32m━━━━━━━━━━━━━━━━━━━━\u001b[0m\u001b[37m\u001b[0m \u001b[1m1s\u001b[0m 10ms/step - accuracy: 0.3705 - loss: 1.7697 - val_accuracy: 0.3874 - val_loss: 1.7275\n",
      "Epoch 13/500\n",
      "\u001b[1m88/88\u001b[0m \u001b[32m━━━━━━━━━━━━━━━━━━━━\u001b[0m\u001b[37m\u001b[0m \u001b[1m1s\u001b[0m 11ms/step - accuracy: 0.3927 - loss: 1.6994 - val_accuracy: 0.3802 - val_loss: 1.7264\n",
      "Epoch 14/500\n",
      "\u001b[1m88/88\u001b[0m \u001b[32m━━━━━━━━━━━━━━━━━━━━\u001b[0m\u001b[37m\u001b[0m \u001b[1m1s\u001b[0m 11ms/step - accuracy: 0.3753 - loss: 1.7490 - val_accuracy: 0.3902 - val_loss: 1.7040\n",
      "Epoch 15/500\n",
      "\u001b[1m88/88\u001b[0m \u001b[32m━━━━━━━━━━━━━━━━━━━━\u001b[0m\u001b[37m\u001b[0m \u001b[1m1s\u001b[0m 10ms/step - accuracy: 0.4138 - loss: 1.6888 - val_accuracy: 0.3960 - val_loss: 1.7052\n",
      "Epoch 16/500\n",
      "\u001b[1m88/88\u001b[0m \u001b[32m━━━━━━━━━━━━━━━━━━━━\u001b[0m\u001b[37m\u001b[0m \u001b[1m1s\u001b[0m 11ms/step - accuracy: 0.4123 - loss: 1.6704 - val_accuracy: 0.4261 - val_loss: 1.6870\n",
      "Epoch 17/500\n",
      "\u001b[1m88/88\u001b[0m \u001b[32m━━━━━━━━━━━━━━━━━━━━\u001b[0m\u001b[37m\u001b[0m \u001b[1m1s\u001b[0m 11ms/step - accuracy: 0.4280 - loss: 1.6244 - val_accuracy: 0.4175 - val_loss: 1.6722\n",
      "Epoch 18/500\n",
      "\u001b[1m88/88\u001b[0m \u001b[32m━━━━━━━━━━━━━━━━━━━━\u001b[0m\u001b[37m\u001b[0m \u001b[1m1s\u001b[0m 11ms/step - accuracy: 0.4158 - loss: 1.6352 - val_accuracy: 0.4175 - val_loss: 1.6641\n",
      "Epoch 19/500\n",
      "\u001b[1m88/88\u001b[0m \u001b[32m━━━━━━━━━━━━━━━━━━━━\u001b[0m\u001b[37m\u001b[0m \u001b[1m1s\u001b[0m 11ms/step - accuracy: 0.4274 - loss: 1.5914 - val_accuracy: 0.4433 - val_loss: 1.6292\n",
      "Epoch 20/500\n",
      "\u001b[1m88/88\u001b[0m \u001b[32m━━━━━━━━━━━━━━━━━━━━\u001b[0m\u001b[37m\u001b[0m \u001b[1m1s\u001b[0m 10ms/step - accuracy: 0.4273 - loss: 1.5977 - val_accuracy: 0.4132 - val_loss: 1.6470\n",
      "Epoch 21/500\n",
      "\u001b[1m88/88\u001b[0m \u001b[32m━━━━━━━━━━━━━━━━━━━━\u001b[0m\u001b[37m\u001b[0m \u001b[1m1s\u001b[0m 10ms/step - accuracy: 0.4547 - loss: 1.5481 - val_accuracy: 0.4275 - val_loss: 1.6539\n",
      "Epoch 22/500\n",
      "\u001b[1m88/88\u001b[0m \u001b[32m━━━━━━━━━━━━━━━━━━━━\u001b[0m\u001b[37m\u001b[0m \u001b[1m1s\u001b[0m 11ms/step - accuracy: 0.4393 - loss: 1.6091 - val_accuracy: 0.4476 - val_loss: 1.6193\n",
      "Epoch 23/500\n",
      "\u001b[1m88/88\u001b[0m \u001b[32m━━━━━━━━━━━━━━━━━━━━\u001b[0m\u001b[37m\u001b[0m \u001b[1m1s\u001b[0m 11ms/step - accuracy: 0.4562 - loss: 1.5713 - val_accuracy: 0.4476 - val_loss: 1.6074\n",
      "Epoch 24/500\n",
      "\u001b[1m88/88\u001b[0m \u001b[32m━━━━━━━━━━━━━━━━━━━━\u001b[0m\u001b[37m\u001b[0m \u001b[1m1s\u001b[0m 11ms/step - accuracy: 0.4552 - loss: 1.5448 - val_accuracy: 0.4491 - val_loss: 1.5939\n",
      "Epoch 25/500\n",
      "\u001b[1m88/88\u001b[0m \u001b[32m━━━━━━━━━━━━━━━━━━━━\u001b[0m\u001b[37m\u001b[0m \u001b[1m1s\u001b[0m 10ms/step - accuracy: 0.4825 - loss: 1.5235 - val_accuracy: 0.4462 - val_loss: 1.5990\n",
      "Epoch 26/500\n",
      "\u001b[1m88/88\u001b[0m \u001b[32m━━━━━━━━━━━━━━━━━━━━\u001b[0m\u001b[37m\u001b[0m \u001b[1m1s\u001b[0m 10ms/step - accuracy: 0.4691 - loss: 1.4804 - val_accuracy: 0.4433 - val_loss: 1.6001\n",
      "Epoch 27/500\n",
      "\u001b[1m88/88\u001b[0m \u001b[32m━━━━━━━━━━━━━━━━━━━━\u001b[0m\u001b[37m\u001b[0m \u001b[1m1s\u001b[0m 11ms/step - accuracy: 0.4738 - loss: 1.5290 - val_accuracy: 0.4448 - val_loss: 1.5839\n",
      "Epoch 28/500\n",
      "\u001b[1m88/88\u001b[0m \u001b[32m━━━━━━━━━━━━━━━━━━━━\u001b[0m\u001b[37m\u001b[0m \u001b[1m1s\u001b[0m 10ms/step - accuracy: 0.4818 - loss: 1.4883 - val_accuracy: 0.4491 - val_loss: 1.5938\n",
      "Epoch 29/500\n",
      "\u001b[1m88/88\u001b[0m \u001b[32m━━━━━━━━━━━━━━━━━━━━\u001b[0m\u001b[37m\u001b[0m \u001b[1m1s\u001b[0m 10ms/step - accuracy: 0.4731 - loss: 1.4902 - val_accuracy: 0.4605 - val_loss: 1.6024\n",
      "Epoch 30/500\n",
      "\u001b[1m88/88\u001b[0m \u001b[32m━━━━━━━━━━━━━━━━━━━━\u001b[0m\u001b[37m\u001b[0m \u001b[1m1s\u001b[0m 10ms/step - accuracy: 0.4863 - loss: 1.4985 - val_accuracy: 0.4505 - val_loss: 1.5929\n",
      "Epoch 31/500\n",
      "\u001b[1m88/88\u001b[0m \u001b[32m━━━━━━━━━━━━━━━━━━━━\u001b[0m\u001b[37m\u001b[0m \u001b[1m1s\u001b[0m 11ms/step - accuracy: 0.4687 - loss: 1.4894 - val_accuracy: 0.4491 - val_loss: 1.5769\n",
      "Epoch 32/500\n",
      "\u001b[1m88/88\u001b[0m \u001b[32m━━━━━━━━━━━━━━━━━━━━\u001b[0m\u001b[37m\u001b[0m \u001b[1m1s\u001b[0m 11ms/step - accuracy: 0.4878 - loss: 1.4886 - val_accuracy: 0.4519 - val_loss: 1.5605\n",
      "Epoch 33/500\n",
      "\u001b[1m88/88\u001b[0m \u001b[32m━━━━━━━━━━━━━━━━━━━━\u001b[0m\u001b[37m\u001b[0m \u001b[1m1s\u001b[0m 10ms/step - accuracy: 0.4993 - loss: 1.4163 - val_accuracy: 0.4663 - val_loss: 1.5686\n",
      "Epoch 34/500\n",
      "\u001b[1m88/88\u001b[0m \u001b[32m━━━━━━━━━━━━━━━━━━━━\u001b[0m\u001b[37m\u001b[0m \u001b[1m1s\u001b[0m 10ms/step - accuracy: 0.5192 - loss: 1.4009 - val_accuracy: 0.4591 - val_loss: 1.5623\n",
      "Epoch 35/500\n",
      "\u001b[1m88/88\u001b[0m \u001b[32m━━━━━━━━━━━━━━━━━━━━\u001b[0m\u001b[37m\u001b[0m \u001b[1m1s\u001b[0m 11ms/step - accuracy: 0.5046 - loss: 1.3872 - val_accuracy: 0.4692 - val_loss: 1.5502\n",
      "Epoch 36/500\n",
      "\u001b[1m88/88\u001b[0m \u001b[32m━━━━━━━━━━━━━━━━━━━━\u001b[0m\u001b[37m\u001b[0m \u001b[1m1s\u001b[0m 11ms/step - accuracy: 0.5240 - loss: 1.3632 - val_accuracy: 0.4720 - val_loss: 1.5358\n",
      "Epoch 37/500\n",
      "\u001b[1m88/88\u001b[0m \u001b[32m━━━━━━━━━━━━━━━━━━━━\u001b[0m\u001b[37m\u001b[0m \u001b[1m1s\u001b[0m 10ms/step - accuracy: 0.4997 - loss: 1.4135 - val_accuracy: 0.4763 - val_loss: 1.5372\n",
      "Epoch 38/500\n",
      "\u001b[1m88/88\u001b[0m \u001b[32m━━━━━━━━━━━━━━━━━━━━\u001b[0m\u001b[37m\u001b[0m \u001b[1m1s\u001b[0m 10ms/step - accuracy: 0.5034 - loss: 1.4201 - val_accuracy: 0.4462 - val_loss: 1.5584\n",
      "Epoch 39/500\n",
      "\u001b[1m88/88\u001b[0m \u001b[32m━━━━━━━━━━━━━━━━━━━━\u001b[0m\u001b[37m\u001b[0m \u001b[1m1s\u001b[0m 10ms/step - accuracy: 0.4863 - loss: 1.4333 - val_accuracy: 0.4620 - val_loss: 1.5400\n",
      "Epoch 40/500\n",
      "\u001b[1m88/88\u001b[0m \u001b[32m━━━━━━━━━━━━━━━━━━━━\u001b[0m\u001b[37m\u001b[0m \u001b[1m1s\u001b[0m 11ms/step - accuracy: 0.5291 - loss: 1.3417 - val_accuracy: 0.4663 - val_loss: 1.5307\n",
      "Epoch 41/500\n",
      "\u001b[1m88/88\u001b[0m \u001b[32m━━━━━━━━━━━━━━━━━━━━\u001b[0m\u001b[37m\u001b[0m \u001b[1m1s\u001b[0m 11ms/step - accuracy: 0.5266 - loss: 1.3492 - val_accuracy: 0.4950 - val_loss: 1.5215\n",
      "Epoch 42/500\n",
      "\u001b[1m88/88\u001b[0m \u001b[32m━━━━━━━━━━━━━━━━━━━━\u001b[0m\u001b[37m\u001b[0m \u001b[1m1s\u001b[0m 10ms/step - accuracy: 0.5441 - loss: 1.3078 - val_accuracy: 0.4692 - val_loss: 1.5380\n",
      "Epoch 43/500\n",
      "\u001b[1m88/88\u001b[0m \u001b[32m━━━━━━━━━━━━━━━━━━━━\u001b[0m\u001b[37m\u001b[0m \u001b[1m1s\u001b[0m 10ms/step - accuracy: 0.5404 - loss: 1.3360 - val_accuracy: 0.4677 - val_loss: 1.5354\n",
      "Epoch 44/500\n",
      "\u001b[1m88/88\u001b[0m \u001b[32m━━━━━━━━━━━━━━━━━━━━\u001b[0m\u001b[37m\u001b[0m \u001b[1m1s\u001b[0m 11ms/step - accuracy: 0.5391 - loss: 1.3439 - val_accuracy: 0.4720 - val_loss: 1.5292\n",
      "Epoch 45/500\n",
      "\u001b[1m88/88\u001b[0m \u001b[32m━━━━━━━━━━━━━━━━━━━━\u001b[0m\u001b[37m\u001b[0m \u001b[1m1s\u001b[0m 11ms/step - accuracy: 0.5408 - loss: 1.3231 - val_accuracy: 0.4778 - val_loss: 1.5059\n",
      "Epoch 46/500\n",
      "\u001b[1m88/88\u001b[0m \u001b[32m━━━━━━━━━━━━━━━━━━━━\u001b[0m\u001b[37m\u001b[0m \u001b[1m1s\u001b[0m 10ms/step - accuracy: 0.5353 - loss: 1.3375 - val_accuracy: 0.4892 - val_loss: 1.5268\n",
      "Epoch 47/500\n",
      "\u001b[1m88/88\u001b[0m \u001b[32m━━━━━━━━━━━━━━━━━━━━\u001b[0m\u001b[37m\u001b[0m \u001b[1m1s\u001b[0m 11ms/step - accuracy: 0.5340 - loss: 1.3171 - val_accuracy: 0.4935 - val_loss: 1.5052\n",
      "Epoch 48/500\n",
      "\u001b[1m88/88\u001b[0m \u001b[32m━━━━━━━━━━━━━━━━━━━━\u001b[0m\u001b[37m\u001b[0m \u001b[1m1s\u001b[0m 11ms/step - accuracy: 0.5335 - loss: 1.3093 - val_accuracy: 0.4921 - val_loss: 1.4979\n",
      "Epoch 49/500\n",
      "\u001b[1m88/88\u001b[0m \u001b[32m━━━━━━━━━━━━━━━━━━━━\u001b[0m\u001b[37m\u001b[0m \u001b[1m1s\u001b[0m 10ms/step - accuracy: 0.5189 - loss: 1.3293 - val_accuracy: 0.4935 - val_loss: 1.5172\n",
      "Epoch 50/500\n",
      "\u001b[1m88/88\u001b[0m \u001b[32m━━━━━━━━━━━━━━━━━━━━\u001b[0m\u001b[37m\u001b[0m \u001b[1m1s\u001b[0m 11ms/step - accuracy: 0.5661 - loss: 1.2593 - val_accuracy: 0.4806 - val_loss: 1.4927\n",
      "Epoch 51/500\n",
      "\u001b[1m88/88\u001b[0m \u001b[32m━━━━━━━━━━━━━━━━━━━━\u001b[0m\u001b[37m\u001b[0m \u001b[1m1s\u001b[0m 11ms/step - accuracy: 0.5681 - loss: 1.2427 - val_accuracy: 0.4993 - val_loss: 1.4834\n",
      "Epoch 52/500\n",
      "\u001b[1m88/88\u001b[0m \u001b[32m━━━━━━━━━━━━━━━━━━━━\u001b[0m\u001b[37m\u001b[0m \u001b[1m1s\u001b[0m 10ms/step - accuracy: 0.5716 - loss: 1.2641 - val_accuracy: 0.5007 - val_loss: 1.4947\n",
      "Epoch 53/500\n",
      "\u001b[1m88/88\u001b[0m \u001b[32m━━━━━━━━━━━━━━━━━━━━\u001b[0m\u001b[37m\u001b[0m \u001b[1m1s\u001b[0m 10ms/step - accuracy: 0.5581 - loss: 1.2626 - val_accuracy: 0.4964 - val_loss: 1.5036\n",
      "Epoch 54/500\n",
      "\u001b[1m88/88\u001b[0m \u001b[32m━━━━━━━━━━━━━━━━━━━━\u001b[0m\u001b[37m\u001b[0m \u001b[1m1s\u001b[0m 11ms/step - accuracy: 0.5633 - loss: 1.2671 - val_accuracy: 0.4921 - val_loss: 1.4996\n",
      "Epoch 55/500\n",
      "\u001b[1m88/88\u001b[0m \u001b[32m━━━━━━━━━━━━━━━━━━━━\u001b[0m\u001b[37m\u001b[0m \u001b[1m1s\u001b[0m 11ms/step - accuracy: 0.5482 - loss: 1.2962 - val_accuracy: 0.4821 - val_loss: 1.5286\n",
      "Epoch 56/500\n",
      "\u001b[1m88/88\u001b[0m \u001b[32m━━━━━━━━━━━━━━━━━━━━\u001b[0m\u001b[37m\u001b[0m \u001b[1m1s\u001b[0m 11ms/step - accuracy: 0.5662 - loss: 1.2491 - val_accuracy: 0.4978 - val_loss: 1.5033\n"
     ]
    }
   ],
   "source": [
    "# Huấn luyện mô hình\n",
    "H = model.fit(\n",
    "    X_train_sub, Y_train,\n",
    "    validation_data=(X_val, Y_val),\n",
    "    batch_size=32,\n",
    "    epochs=100,\n",
    "    callbacks=callbacks,\n",
    "    verbose=1,\n",
    ")"
   ]
  },
  {
   "cell_type": "code",
   "execution_count": 9,
   "id": "21513674",
   "metadata": {
    "execution": {
     "iopub.execute_input": "2025-06-20T10:27:14.305755Z",
     "iopub.status.busy": "2025-06-20T10:27:14.305420Z",
     "iopub.status.idle": "2025-06-20T10:27:14.634704Z",
     "shell.execute_reply": "2025-06-20T10:27:14.633641Z"
    },
    "id": "Cv4lnwNUVLip",
    "papermill": {
     "duration": 0.374556,
     "end_time": "2025-06-20T10:27:14.636274",
     "exception": false,
     "start_time": "2025-06-20T10:27:14.261718",
     "status": "completed"
    },
    "tags": []
   },
   "outputs": [],
   "source": [
    "# Lưu lại mô hình đã fine-tune\n",
    "os.makedirs(\"/kaggle/working\", exist_ok=True)\n",
    "model.save(\"/kaggle/working/vgg16_finetuned_model.keras\")"
   ]
  },
  {
   "cell_type": "markdown",
   "id": "5e3fbde3",
   "metadata": {
    "id": "0tgUThFZVLip",
    "papermill": {
     "duration": 0.09334,
     "end_time": "2025-06-20T10:27:14.774559",
     "exception": false,
     "start_time": "2025-06-20T10:27:14.681219",
     "status": "completed"
    },
    "tags": []
   },
   "source": [
    "5. VISUALIZATION"
   ]
  },
  {
   "cell_type": "code",
   "execution_count": 10,
   "id": "e57d79f9",
   "metadata": {
    "execution": {
     "iopub.execute_input": "2025-06-20T10:27:14.865535Z",
     "iopub.status.busy": "2025-06-20T10:27:14.864931Z",
     "iopub.status.idle": "2025-06-20T10:27:15.309753Z",
     "shell.execute_reply": "2025-06-20T10:27:15.308845Z"
    },
    "id": "oZxLFZdcVLip",
    "papermill": {
     "duration": 0.49544,
     "end_time": "2025-06-20T10:27:15.311189",
     "exception": false,
     "start_time": "2025-06-20T10:27:14.815749",
     "status": "completed"
    },
    "tags": []
   },
   "outputs": [
    {
     "data": {
      "image/png": "[encoded data removed]",
      "text/plain": [
       "<Figure size 800x500 with 1 Axes>"
      ]
     },
     "metadata": {},
     "output_type": "display_data"
    },
    {
     "data": {
      "text/plain": [
       "<function matplotlib.pyplot.show(close=None, block=None)>"
      ]
     },
     "execution_count": 10,
     "metadata": {},
     "output_type": "execute_result"
    },
    {
     "data": {
      "image/png": "[encoded data removed]",
      "text/plain": [
       "<Figure size 800x500 with 1 Axes>"
      ]
     },
     "metadata": {},
     "output_type": "display_data"
    }
   ],
   "source": [
    "# 12. Vẽ đồ thị loss và accuracy của training & validation\n",
    "# Loss\n",
    "plt.figure(figsize=(8,5))\n",
    "plt.subplot(1, 2, 2)\n",
    "plt.plot(H.history['loss'], label='Train loss')\n",
    "plt.plot(H.history['val_loss'], label='Val loss')\n",
    "plt.title('Training vs Validation Loss')\n",
    "plt.xlabel('Epoch')\n",
    "plt.ylabel('Loss')\n",
    "plt.legend()\n",
    "plt.show()\n",
    "\n",
    "# Accuracy\n",
    "plt.figure(figsize=(8,5))\n",
    "plt.subplot(1, 2, 1)\n",
    "plt.plot(H.history['accuracy'], label='Train acc')\n",
    "plt.plot(H.history['val_accuracy'], label='Val acc')\n",
    "plt.title('Training vs Validation Accuracy')\n",
    "plt.xlabel('Epoch')\n",
    "plt.ylabel('Accuracy')\n",
    "plt.legend()\n",
    "plt.show\n"
   ]
  },
  {
   "cell_type": "markdown",
   "id": "164c350c-4483-4ddf-916d-5e1b79596298",
   "metadata": {},
   "source": [
    "6. Đánh giá trên tập test"
   ]
  },
  {
   "cell_type": "code",
   "execution_count": null,
   "id": "f970a53f-6bae-4946-ae79-ab23a65ccb3f",
   "metadata": {
    "execution": {
     "iopub.execute_input": "2025-06-30T13:48:22.164020Z",
     "iopub.status.busy": "2025-06-30T13:48:22.163711Z",
     "iopub.status.idle": "2025-06-30T13:48:26.423814Z",
     "shell.execute_reply": "2025-06-30T13:48:26.423039Z",
     "shell.execute_reply.started": "2025-06-30T13:48:22.163993Z"
    },
    "trusted": true
   },
   "outputs": [
    {
     "name": "stdout",
     "output_type": "stream",
     "text": [
      "\u001b[1m25/25\u001b[0m \u001b[32m━━━━━━━━━━━━━━━━━━━━\u001b[0m\u001b[37m\u001b[0m \u001b[1m3s\u001b[0m 61ms/step\n",
      "=== Classification Report trên tập TEST ===\n",
      "              precision    recall  f1-score   support\n",
      "\n",
      "           0       0.57      0.47      0.51        77\n",
      "           1       0.39      0.62      0.48        77\n",
      "           2       0.35      0.31      0.33        78\n",
      "           3       0.35      0.35      0.35        80\n",
      "           4       0.39      0.49      0.44        75\n",
      "           5       0.44      0.47      0.46        76\n",
      "           6       0.55      0.31      0.39        78\n",
      "           7       0.44      0.43      0.43        79\n",
      "           8       0.50      0.43      0.46        79\n",
      "           9       0.35      0.34      0.35        79\n",
      "\n",
      "    accuracy                           0.42       778\n",
      "   macro avg       0.43      0.42      0.42       778\n",
      "weighted avg       0.43      0.42      0.42       778\n",
      "\n"
     ]
    }
   ],
   "source": [
    "from sklearn.metrics import classification_report, confusion_matrix\n",
    "\n",
    "model = load_model('/kaggle/working/vgg16_finetuned_model.keras')\n",
    "\n",
    "# Dự đoán nhãn trên tập test\n",
    "y_test_pred_prob = model.predict(X_test)\n",
    "y_test_pred = np.argmax(y_test_pred_prob, axis=1)\n",
    "\n",
    "# In classification report\n",
    "print(\"=== Classification Report trên tập TEST ===\")\n",
    "print(classification_report(y_test_num, y_test_pred, target_names=le.classes_))"
   ]
  },
  {
   "cell_type": "markdown",
   "id": "f1085266",
   "metadata": {
    "papermill": {
     "duration": 0.040879,
     "end_time": "2025-06-20T10:27:15.396216",
     "exception": false,
     "start_time": "2025-06-20T10:27:15.355337",
     "status": "completed"
    },
    "tags": []
   },
   "source": [
    "7. Dự đoán trên tập dữ liệu Predict"
   ]
  },
  {
   "cell_type": "code",
   "execution_count": 11,
   "id": "2c95709a",
   "metadata": {
    "execution": {
     "iopub.execute_input": "2025-06-20T10:27:15.476390Z",
     "iopub.status.busy": "2025-06-20T10:27:15.476153Z",
     "iopub.status.idle": "2025-06-20T10:31:16.754831Z",
     "shell.execute_reply": "2025-06-20T10:31:16.753926Z"
    },
    "papermill": {
     "duration": 241.321032,
     "end_time": "2025-06-20T10:31:16.756086",
     "exception": false,
     "start_time": "2025-06-20T10:27:15.435054",
     "status": "completed"
    },
    "tags": []
   },
   "outputs": [
    {
     "name": "stdout",
     "output_type": "stream",
     "text": [
      "\u001b[1m305/305\u001b[0m \u001b[32m━━━━━━━━━━━━━━━━━━━━\u001b[0m\u001b[37m\u001b[0m \u001b[1m5s\u001b[0m 13ms/step\n",
      "Results saved to /kaggle/working/predictions.csv\n"
     ]
    }
   ],
   "source": [
    "import os\n",
    "import cv2\n",
    "import numpy as np\n",
    "\n",
    "model = load_model('/kaggle/working/vgg16_finetuned_model.keras')\n",
    "\n",
    "# Hàm dự đoán và lưu kết quả\n",
    "def predict_and_save_results(model, data_dir, img_size=(32,32)):\n",
    "    X, filenames = [], []\n",
    "    \n",
    "    # Kiểm tra lại img_size có đúng định dạng không\n",
    "    if not isinstance(img_size, tuple) or len(img_size) != 2:\n",
    "        raise ValueError(f\"img_size phải là một tuple có 2 phần tử. Hiện tại là {img_size}\")\n",
    "    \n",
    "    # Duyệt qua tất cả các file trong thư mục dữ liệu\n",
    "    for fname in os.listdir(data_dir):\n",
    "        if fname.lower().endswith(('.jpg', '.jpeg', '.png')):  # Lọc các ảnh\n",
    "            path = os.path.join(data_dir, fname)\n",
    "            img = cv2.imread(path, cv2.IMREAD_COLOR)\n",
    "            if img is None:\n",
    "                continue\n",
    "            img = cv2.cvtColor(img, cv2.COLOR_BGR2RGB)  # Đổi sang RGB\n",
    "            \n",
    "            # Resize hình ảnh về kích thước 32x32\n",
    "            img = cv2.resize(img, img_size)  # Resize ảnh\n",
    "            img = img.astype(np.float16) / 255.0  # Chuẩn hóa ảnh\n",
    "            X.append(img)\n",
    "            filenames.append(fname)\n",
    "    \n",
    "    # Chuyển X thành mảng numpy\n",
    "    X = np.array(X)\n",
    "    \n",
    "    # Dự đoán nhãn\n",
    "    predictions = model.predict(X)\n",
    "    predicted_classes = np.argmax(predictions, axis=1)  # Lấy nhãn có xác suất cao nhất\n",
    "\n",
    "    # Lưu kết quả vào file CSV với định dạng tên file và nhãn\n",
    "    result_file = '/kaggle/working/predictions.csv'\n",
    "    with open(result_file, 'w') as f:\n",
    "        for fname, predicted_class in zip(filenames, predicted_classes):\n",
    "            # Đảm bảo giữ nguyên tên file đầy đủ (bao gồm phần mở rộng)\n",
    "            f.write(f\"{fname},{predicted_class}\\n\")\n",
    "    \n",
    "    print(f\"Results saved to {result_file}\")\n",
    "\n",
    "# Dự đoán cho bộ test\n",
    "dataset_path_test = '/kaggle/input/hand-written'\n",
    "predict_and_save_results(model, dataset_path_test)"
   ]
  }
 ],
 "metadata": {
  "accelerator": "GPU",
  "colab": {
   "gpuType": "T4",
   "provenance": []
  },
  "kaggle": {
   "accelerator": "nvidiaTeslaT4",
   "dataSources": [
    {
     "datasetId": 7654174,
     "sourceId": 12153565,
     "sourceType": "datasetVersion"
    },
    {
     "datasetId": 7661808,
     "sourceId": 12165100,
     "sourceType": "datasetVersion"
    },
    {
     "isSourceIdPinned": true,
     "modelId": 389271,
     "modelInstanceId": 368393,
     "sourceId": 454042,
     "sourceType": "modelInstanceVersion"
    }
   ],
   "dockerImageVersionId": 31041,
   "isGpuEnabled": true,
   "isInternetEnabled": true,
   "language": "python",
   "sourceType": "notebook"
  },
  "kernelspec": {
   "display_name": "Python 3",
   "language": "python",
   "name": "python3"
  },
  "language_info": {
   "codemirror_mode": {
    "name": "ipython",
    "version": 3
   },
   "file_extension": ".py",
   "mimetype": "text/x-python",
   "name": "python",
   "nbconvert_exporter": "python",
   "pygments_lexer": "ipython3",
   "version": "3.11.11"
  },
  "papermill": {
   "default_parameters": {},
   "duration": 443.413368,
   "end_time": "2025-06-20T10:31:20.153312",
   "environment_variables": {},
   "exception": null,
   "input_path": "__notebook__.ipynb",
   "output_path": "__notebook__.ipynb",
   "parameters": {},
   "start_time": "2025-06-20T10:23:56.739944",
   "version": "2.6.0"
  }
 },
 "nbformat": 4,
 "nbformat_minor": 5
}
