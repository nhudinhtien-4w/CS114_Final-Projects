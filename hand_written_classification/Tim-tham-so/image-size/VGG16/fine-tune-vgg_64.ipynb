{
 "cells": [
  {
   "cell_type": "markdown",
   "id": "80b96289",
   "metadata": {
    "papermill": {
     "duration": 0.004066,
     "end_time": "2025-06-20T10:56:15.696749",
     "exception": false,
     "start_time": "2025-06-20T10:56:15.692683",
     "status": "completed"
    },
    "tags": []
   },
   "source": [
    "1. IMPORT CÁC THƯ VIỆN CẦN THIẾT"
   ]
  },
  {
   "cell_type": "code",
   "execution_count": 21,
   "id": "3a1f000e",
   "metadata": {
    "execution": {
     "iopub.execute_input": "2025-06-30T13:42:12.597941Z",
     "iopub.status.busy": "2025-06-30T13:42:12.597271Z",
     "iopub.status.idle": "2025-06-30T13:42:12.602989Z",
     "shell.execute_reply": "2025-06-30T13:42:12.602048Z",
     "shell.execute_reply.started": "2025-06-30T13:42:12.597911Z"
    },
    "id": "ReF06NgPVLih",
    "papermill": {
     "duration": 28.743072,
     "end_time": "2025-06-20T10:56:44.443311",
     "exception": false,
     "start_time": "2025-06-20T10:56:15.700239",
     "status": "completed"
    },
    "tags": [],
    "trusted": true
   },
   "outputs": [],
   "source": [
    "import os\n",
    "import numpy as np\n",
    "import cv2\n",
    "\n",
    "import tensorflow as tf\n",
    "import matplotlib.pyplot as plt\n",
    "from tensorflow.keras import layers, models\n",
    "from tensorflow.keras.models import load_model\n",
    "\n",
    "from tensorflow.keras.applications import VGG16\n",
    "from tensorflow.keras.layers import Flatten, Dense, Dropout\n",
    "from tensorflow.keras.models import Model\n",
    "from tensorflow.keras.optimizers import Adam\n",
    "\n",
    "from sklearn.preprocessing import LabelEncoder\n",
    "from tensorflow.keras.utils import to_categorical\n",
    "from sklearn.model_selection import train_test_split\n",
    "from tensorflow.keras.callbacks import EarlyStopping"
   ]
  },
  {
   "cell_type": "markdown",
   "id": "f776879f",
   "metadata": {
    "id": "Tc6ptkncVLil",
    "papermill": {
     "duration": 0.003183,
     "end_time": "2025-06-20T10:56:44.450244",
     "exception": false,
     "start_time": "2025-06-20T10:56:44.447061",
     "status": "completed"
    },
    "tags": []
   },
   "source": [
    "2. TIỀN XỬ LÝ DỮ LIỆU:"
   ]
  },
  {
   "cell_type": "code",
   "execution_count": 22,
   "id": "9d8a00e8",
   "metadata": {
    "execution": {
     "iopub.execute_input": "2025-06-30T13:42:14.981795Z",
     "iopub.status.busy": "2025-06-30T13:42:14.981280Z",
     "iopub.status.idle": "2025-06-30T13:43:30.808471Z",
     "shell.execute_reply": "2025-06-30T13:43:30.807572Z",
     "shell.execute_reply.started": "2025-06-30T13:42:14.981772Z"
    },
    "id": "KumcBuOpVLim",
    "papermill": {
     "duration": 133.476556,
     "end_time": "2025-06-20T10:58:57.930045",
     "exception": false,
     "start_time": "2025-06-20T10:56:44.453489",
     "status": "completed"
    },
    "tags": [],
    "trusted": true
   },
   "outputs": [
    {
     "name": "stdout",
     "output_type": "stream",
     "text": [
      "Tổng số ảnh train: 3482\n",
      "Tổng số ảnh test: 778\n"
     ]
    }
   ],
   "source": [
    "# Load dữ liệu\n",
    "def load_dataset_from_dir(data_dir, img_size=(64,64)):\n",
    "    X, y = [], []\n",
    "    classes = sorted(d for d in os.listdir(data_dir)\n",
    "                     if os.path.isdir(os.path.join(data_dir, d)))\n",
    "    label_map = {cls:i for i,cls in enumerate(classes)}\n",
    "\n",
    "    for cls in classes:\n",
    "        cls_dir = os.path.join(data_dir, cls)\n",
    "        for fname in os.listdir(cls_dir):\n",
    "            if fname.lower().endswith(('.jpg','.jpeg','.png')):\n",
    "                path = os.path.join(cls_dir, fname)\n",
    "                img = cv2.imread(path, cv2.IMREAD_COLOR)\n",
    "                if img is None:\n",
    "                    continue\n",
    "                img = cv2.cvtColor(img, cv2.COLOR_BGR2RGB)\n",
    "                img = cv2.resize(img, img_size)                   \n",
    "                img = img.astype(np.float16) / 255.0              \n",
    "                X.append(img)\n",
    "                y.append(cls)                                     \n",
    "\n",
    "    X = np.array(X)                                         \n",
    "    y = np.array(y)\n",
    "\n",
    "    return X, y, label_map\n",
    "\n",
    "\n",
    "# Đọc dữ liệu\n",
    "dataset_path_train = '/kaggle/input/cus-hand-written/hand_written_digit/train'\n",
    "dataset_path_test = '/kaggle/input/cus-hand-written/hand_written_digit/test'\n",
    "\n",
    "X_train, y_train, label_map_train = load_dataset_from_dir(dataset_path_train, img_size=(64,64))\n",
    "X_test, y_test, label_map_test = load_dataset_from_dir(dataset_path_test, img_size=(64,64))\n",
    "print(f\"Tổng số ảnh train: {len(X_train)}\")\n",
    "print(f\"Tổng số ảnh test: {len(X_test)}\")"
   ]
  },
  {
   "cell_type": "code",
   "execution_count": 23,
   "id": "53424703",
   "metadata": {
    "execution": {
     "iopub.execute_input": "2025-06-30T13:43:30.810257Z",
     "iopub.status.busy": "2025-06-30T13:43:30.809951Z",
     "iopub.status.idle": "2025-06-30T13:43:30.815930Z",
     "shell.execute_reply": "2025-06-30T13:43:30.815162Z",
     "shell.execute_reply.started": "2025-06-30T13:43:30.810230Z"
    },
    "id": "U6TbfAoxVLin",
    "outputId": "7f8ccaf6-1ac0-411f-c33a-56efea4aa01b",
    "papermill": {
     "duration": 0.014541,
     "end_time": "2025-06-20T10:58:57.948068",
     "exception": false,
     "start_time": "2025-06-20T10:58:57.933527",
     "status": "completed"
    },
    "tags": [],
    "trusted": true
   },
   "outputs": [
    {
     "name": "stdout",
     "output_type": "stream",
     "text": [
      "[0 0 0 ... 9 9 9]\n"
     ]
    }
   ],
   "source": [
    "# Encode nhãn và chia dữ liệu train/test\n",
    "le = LabelEncoder()\n",
    "y_train_num = le.fit_transform(y_train)\n",
    "y_test_num = le.fit_transform(y_test)\n",
    "num_classes = len(le.classes_)\n",
    "\n",
    "print(y_train_num)"
   ]
  },
  {
   "cell_type": "code",
   "execution_count": 24,
   "id": "5be2bf3b",
   "metadata": {
    "execution": {
     "iopub.execute_input": "2025-06-30T13:43:30.816999Z",
     "iopub.status.busy": "2025-06-30T13:43:30.816657Z",
     "iopub.status.idle": "2025-06-30T13:43:30.864214Z",
     "shell.execute_reply": "2025-06-30T13:43:30.863326Z",
     "shell.execute_reply.started": "2025-06-30T13:43:30.816981Z"
    },
    "papermill": {
     "duration": 0.047939,
     "end_time": "2025-06-20T10:58:57.999664",
     "exception": false,
     "start_time": "2025-06-20T10:58:57.951725",
     "status": "completed"
    },
    "tags": [],
    "trusted": true
   },
   "outputs": [
    {
     "name": "stdout",
     "output_type": "stream",
     "text": [
      "Số ảnh TRAIN: 2785\n",
      "Số ảnh VALIDATION: 697\n",
      "Tổng số ảnh test: 778\n"
     ]
    }
   ],
   "source": [
    "# Chia tập train-valid tỉ lệ 8-2\n",
    "X_train_sub, X_val, y_train_sub, y_val = train_test_split(\n",
    "    X_train, y_train_num, test_size=0.2, random_state=42, stratify=y_train_num\n",
    ")\n",
    "\n",
    "print(f\"Số ảnh TRAIN: {len(X_train_sub)}\")\n",
    "print(f\"Số ảnh VALIDATION: {len(X_val)}\")\n",
    "print(f\"Tổng số ảnh test: {len(X_test)}\")"
   ]
  },
  {
   "cell_type": "code",
   "execution_count": 25,
   "id": "1aab54b7",
   "metadata": {
    "execution": {
     "iopub.execute_input": "2025-06-30T13:43:30.866214Z",
     "iopub.status.busy": "2025-06-30T13:43:30.865987Z",
     "iopub.status.idle": "2025-06-30T13:43:30.873832Z",
     "shell.execute_reply": "2025-06-30T13:43:30.872925Z",
     "shell.execute_reply.started": "2025-06-30T13:43:30.866197Z"
    },
    "papermill": {
     "duration": 0.013284,
     "end_time": "2025-06-20T10:58:58.016587",
     "exception": false,
     "start_time": "2025-06-20T10:58:58.003303",
     "status": "completed"
    },
    "tags": [],
    "trusted": true
   },
   "outputs": [
    {
     "name": "stdout",
     "output_type": "stream",
     "text": [
      "[[0. 1. 0. ... 0. 0. 0.]\n",
      " [0. 0. 0. ... 0. 0. 0.]\n",
      " [0. 0. 1. ... 0. 0. 0.]\n",
      " ...\n",
      " [0. 1. 0. ... 0. 0. 0.]\n",
      " [0. 0. 0. ... 0. 0. 0.]\n",
      " [0. 0. 0. ... 1. 0. 0.]]\n",
      "[[0. 0. 0. ... 0. 0. 0.]\n",
      " [0. 0. 0. ... 0. 0. 0.]\n",
      " [0. 0. 1. ... 0. 0. 0.]\n",
      " ...\n",
      " [0. 0. 0. ... 0. 0. 0.]\n",
      " [0. 1. 0. ... 0. 0. 0.]\n",
      " [0. 0. 0. ... 0. 0. 0.]]\n"
     ]
    }
   ],
   "source": [
    "# One-hot encode Y\n",
    "Y_train = to_categorical(y_train_sub, num_classes)\n",
    "Y_val = to_categorical(y_val, num_classes)\n",
    "Y_test = to_categorical(y_test, num_classes)\n",
    "\n",
    "print(Y_train)\n",
    "print(Y_val)"
   ]
  },
  {
   "cell_type": "markdown",
   "id": "be728791",
   "metadata": {
    "papermill": {
     "duration": 0.00358,
     "end_time": "2025-06-20T10:58:58.023842",
     "exception": false,
     "start_time": "2025-06-20T10:58:58.020262",
     "status": "completed"
    },
    "tags": []
   },
   "source": [
    "3. XÂY DỰNG MÔ HÌNH"
   ]
  },
  {
   "cell_type": "code",
   "execution_count": 6,
   "id": "b75907d2",
   "metadata": {
    "execution": {
     "iopub.execute_input": "2025-06-20T10:58:58.032077Z",
     "iopub.status.busy": "2025-06-20T10:58:58.031776Z",
     "iopub.status.idle": "2025-06-20T10:59:03.106551Z",
     "shell.execute_reply": "2025-06-20T10:59:03.105629Z"
    },
    "id": "_c3jx6qgVLin",
    "outputId": "e65433ab-0a9d-4f2c-daec-88d520353448",
    "papermill": {
     "duration": 5.080949,
     "end_time": "2025-06-20T10:59:03.108272",
     "exception": false,
     "start_time": "2025-06-20T10:58:58.027323",
     "status": "completed"
    },
    "tags": []
   },
   "outputs": [
    {
     "name": "stderr",
     "output_type": "stream",
     "text": [
      "I0000 00:00:1750417140.372824      19 gpu_device.cc:2022] Created device /job:localhost/replica:0/task:0/device:GPU:0 with 13942 MB memory:  -> device: 0, name: Tesla T4, pci bus id: 0000:00:04.0, compute capability: 7.5\n",
      "I0000 00:00:1750417140.373768      19 gpu_device.cc:2022] Created device /job:localhost/replica:0/task:0/device:GPU:1 with 13942 MB memory:  -> device: 1, name: Tesla T4, pci bus id: 0000:00:05.0, compute capability: 7.5\n"
     ]
    },
    {
     "name": "stdout",
     "output_type": "stream",
     "text": [
      "Downloading data from https://storage.googleapis.com/tensorflow/keras-applications/vgg16/vgg16_weights_tf_dim_ordering_tf_kernels_notop.h5\n",
      "\u001b[1m58889256/58889256\u001b[0m \u001b[32m━━━━━━━━━━━━━━━━━━━━\u001b[0m\u001b[37m\u001b[0m \u001b[1m0s\u001b[0m 0us/step\n"
     ]
    }
   ],
   "source": [
    "# Load mô hình VGG16 đã huấn luyện trước\n",
    "vgg16 = VGG16(weights='imagenet', include_top=False, input_shape=(64, 64, 3))\n",
    "\n",
    "# Đóng băng các lớp của VGG16 (chỉ fine-tune các lớp mới)\n",
    "for layer in vgg16.layers:\n",
    "    layer.trainable = False  # Các lớp của VGG16 sẽ không được huấn luyện lại\n",
    "\n",
    "# Thêm các lớp mới cho bài toán phân loại\n",
    "x = Flatten()(vgg16.output)  # Biến đầu ra thành một vector\n",
    "x = Dense(256, activation='relu')(x)  # Lớp Fully Connected\n",
    "x = Dropout(0.5)(x)  # Dropout để giảm overfitting\n",
    "output = Dense(num_classes, activation='softmax')(x)  # Lớp phân loại"
   ]
  },
  {
   "cell_type": "code",
   "execution_count": 7,
   "id": "57d11c5a",
   "metadata": {
    "execution": {
     "iopub.execute_input": "2025-06-20T10:59:03.118964Z",
     "iopub.status.busy": "2025-06-20T10:59:03.118333Z",
     "iopub.status.idle": "2025-06-20T10:59:03.163448Z",
     "shell.execute_reply": "2025-06-20T10:59:03.162724Z"
    },
    "id": "zWAevSRpVLio",
    "outputId": "06f87b34-874a-41a3-8a26-b12a9aba4051",
    "papermill": {
     "duration": 0.051729,
     "end_time": "2025-06-20T10:59:03.164873",
     "exception": false,
     "start_time": "2025-06-20T10:59:03.113144",
     "status": "completed"
    },
    "tags": []
   },
   "outputs": [
    {
     "data": {
      "text/html": [
       "<pre style=\"white-space:pre;overflow-x:auto;line-height:normal;font-family:Menlo,'DejaVu Sans Mono',consolas,'Courier New',monospace\"><span style=\"font-weight: bold\">Model: \"functional\"</span>\n",
       "</pre>\n"
      ],
      "text/plain": [
       "\u001b[1mModel: \"functional\"\u001b[0m\n"
      ]
     },
     "metadata": {},
     "output_type": "display_data"
    },
    {
     "data": {
      "text/html": [
       "<pre style=\"white-space:pre;overflow-x:auto;line-height:normal;font-family:Menlo,'DejaVu Sans Mono',consolas,'Courier New',monospace\">┏━━━━━━━━━━━━━━━━━━━━━━━━━━━━━━━━━━━━━━┳━━━━━━━━━━━━━━━━━━━━━━━━━━━━━┳━━━━━━━━━━━━━━━━━┓\n",
       "┃<span style=\"font-weight: bold\"> Layer (type)                         </span>┃<span style=\"font-weight: bold\"> Output Shape                </span>┃<span style=\"font-weight: bold\">         Param # </span>┃\n",
       "┡━━━━━━━━━━━━━━━━━━━━━━━━━━━━━━━━━━━━━━╇━━━━━━━━━━━━━━━━━━━━━━━━━━━━━╇━━━━━━━━━━━━━━━━━┩\n",
       "│ input_layer (<span style=\"color: #0087ff; text-decoration-color: #0087ff\">InputLayer</span>)             │ (<span style=\"color: #00d7ff; text-decoration-color: #00d7ff\">None</span>, <span style=\"color: #00af00; text-decoration-color: #00af00\">64</span>, <span style=\"color: #00af00; text-decoration-color: #00af00\">64</span>, <span style=\"color: #00af00; text-decoration-color: #00af00\">3</span>)           │               <span style=\"color: #00af00; text-decoration-color: #00af00\">0</span> │\n",
       "├──────────────────────────────────────┼─────────────────────────────┼─────────────────┤\n",
       "│ block1_conv1 (<span style=\"color: #0087ff; text-decoration-color: #0087ff\">Conv2D</span>)                │ (<span style=\"color: #00d7ff; text-decoration-color: #00d7ff\">None</span>, <span style=\"color: #00af00; text-decoration-color: #00af00\">64</span>, <span style=\"color: #00af00; text-decoration-color: #00af00\">64</span>, <span style=\"color: #00af00; text-decoration-color: #00af00\">64</span>)          │           <span style=\"color: #00af00; text-decoration-color: #00af00\">1,792</span> │\n",
       "├──────────────────────────────────────┼─────────────────────────────┼─────────────────┤\n",
       "│ block1_conv2 (<span style=\"color: #0087ff; text-decoration-color: #0087ff\">Conv2D</span>)                │ (<span style=\"color: #00d7ff; text-decoration-color: #00d7ff\">None</span>, <span style=\"color: #00af00; text-decoration-color: #00af00\">64</span>, <span style=\"color: #00af00; text-decoration-color: #00af00\">64</span>, <span style=\"color: #00af00; text-decoration-color: #00af00\">64</span>)          │          <span style=\"color: #00af00; text-decoration-color: #00af00\">36,928</span> │\n",
       "├──────────────────────────────────────┼─────────────────────────────┼─────────────────┤\n",
       "│ block1_pool (<span style=\"color: #0087ff; text-decoration-color: #0087ff\">MaxPooling2D</span>)           │ (<span style=\"color: #00d7ff; text-decoration-color: #00d7ff\">None</span>, <span style=\"color: #00af00; text-decoration-color: #00af00\">32</span>, <span style=\"color: #00af00; text-decoration-color: #00af00\">32</span>, <span style=\"color: #00af00; text-decoration-color: #00af00\">64</span>)          │               <span style=\"color: #00af00; text-decoration-color: #00af00\">0</span> │\n",
       "├──────────────────────────────────────┼─────────────────────────────┼─────────────────┤\n",
       "│ block2_conv1 (<span style=\"color: #0087ff; text-decoration-color: #0087ff\">Conv2D</span>)                │ (<span style=\"color: #00d7ff; text-decoration-color: #00d7ff\">None</span>, <span style=\"color: #00af00; text-decoration-color: #00af00\">32</span>, <span style=\"color: #00af00; text-decoration-color: #00af00\">32</span>, <span style=\"color: #00af00; text-decoration-color: #00af00\">128</span>)         │          <span style=\"color: #00af00; text-decoration-color: #00af00\">73,856</span> │\n",
       "├──────────────────────────────────────┼─────────────────────────────┼─────────────────┤\n",
       "│ block2_conv2 (<span style=\"color: #0087ff; text-decoration-color: #0087ff\">Conv2D</span>)                │ (<span style=\"color: #00d7ff; text-decoration-color: #00d7ff\">None</span>, <span style=\"color: #00af00; text-decoration-color: #00af00\">32</span>, <span style=\"color: #00af00; text-decoration-color: #00af00\">32</span>, <span style=\"color: #00af00; text-decoration-color: #00af00\">128</span>)         │         <span style=\"color: #00af00; text-decoration-color: #00af00\">147,584</span> │\n",
       "├──────────────────────────────────────┼─────────────────────────────┼─────────────────┤\n",
       "│ block2_pool (<span style=\"color: #0087ff; text-decoration-color: #0087ff\">MaxPooling2D</span>)           │ (<span style=\"color: #00d7ff; text-decoration-color: #00d7ff\">None</span>, <span style=\"color: #00af00; text-decoration-color: #00af00\">16</span>, <span style=\"color: #00af00; text-decoration-color: #00af00\">16</span>, <span style=\"color: #00af00; text-decoration-color: #00af00\">128</span>)         │               <span style=\"color: #00af00; text-decoration-color: #00af00\">0</span> │\n",
       "├──────────────────────────────────────┼─────────────────────────────┼─────────────────┤\n",
       "│ block3_conv1 (<span style=\"color: #0087ff; text-decoration-color: #0087ff\">Conv2D</span>)                │ (<span style=\"color: #00d7ff; text-decoration-color: #00d7ff\">None</span>, <span style=\"color: #00af00; text-decoration-color: #00af00\">16</span>, <span style=\"color: #00af00; text-decoration-color: #00af00\">16</span>, <span style=\"color: #00af00; text-decoration-color: #00af00\">256</span>)         │         <span style=\"color: #00af00; text-decoration-color: #00af00\">295,168</span> │\n",
       "├──────────────────────────────────────┼─────────────────────────────┼─────────────────┤\n",
       "│ block3_conv2 (<span style=\"color: #0087ff; text-decoration-color: #0087ff\">Conv2D</span>)                │ (<span style=\"color: #00d7ff; text-decoration-color: #00d7ff\">None</span>, <span style=\"color: #00af00; text-decoration-color: #00af00\">16</span>, <span style=\"color: #00af00; text-decoration-color: #00af00\">16</span>, <span style=\"color: #00af00; text-decoration-color: #00af00\">256</span>)         │         <span style=\"color: #00af00; text-decoration-color: #00af00\">590,080</span> │\n",
       "├──────────────────────────────────────┼─────────────────────────────┼─────────────────┤\n",
       "│ block3_conv3 (<span style=\"color: #0087ff; text-decoration-color: #0087ff\">Conv2D</span>)                │ (<span style=\"color: #00d7ff; text-decoration-color: #00d7ff\">None</span>, <span style=\"color: #00af00; text-decoration-color: #00af00\">16</span>, <span style=\"color: #00af00; text-decoration-color: #00af00\">16</span>, <span style=\"color: #00af00; text-decoration-color: #00af00\">256</span>)         │         <span style=\"color: #00af00; text-decoration-color: #00af00\">590,080</span> │\n",
       "├──────────────────────────────────────┼─────────────────────────────┼─────────────────┤\n",
       "│ block3_pool (<span style=\"color: #0087ff; text-decoration-color: #0087ff\">MaxPooling2D</span>)           │ (<span style=\"color: #00d7ff; text-decoration-color: #00d7ff\">None</span>, <span style=\"color: #00af00; text-decoration-color: #00af00\">8</span>, <span style=\"color: #00af00; text-decoration-color: #00af00\">8</span>, <span style=\"color: #00af00; text-decoration-color: #00af00\">256</span>)           │               <span style=\"color: #00af00; text-decoration-color: #00af00\">0</span> │\n",
       "├──────────────────────────────────────┼─────────────────────────────┼─────────────────┤\n",
       "│ block4_conv1 (<span style=\"color: #0087ff; text-decoration-color: #0087ff\">Conv2D</span>)                │ (<span style=\"color: #00d7ff; text-decoration-color: #00d7ff\">None</span>, <span style=\"color: #00af00; text-decoration-color: #00af00\">8</span>, <span style=\"color: #00af00; text-decoration-color: #00af00\">8</span>, <span style=\"color: #00af00; text-decoration-color: #00af00\">512</span>)           │       <span style=\"color: #00af00; text-decoration-color: #00af00\">1,180,160</span> │\n",
       "├──────────────────────────────────────┼─────────────────────────────┼─────────────────┤\n",
       "│ block4_conv2 (<span style=\"color: #0087ff; text-decoration-color: #0087ff\">Conv2D</span>)                │ (<span style=\"color: #00d7ff; text-decoration-color: #00d7ff\">None</span>, <span style=\"color: #00af00; text-decoration-color: #00af00\">8</span>, <span style=\"color: #00af00; text-decoration-color: #00af00\">8</span>, <span style=\"color: #00af00; text-decoration-color: #00af00\">512</span>)           │       <span style=\"color: #00af00; text-decoration-color: #00af00\">2,359,808</span> │\n",
       "├──────────────────────────────────────┼─────────────────────────────┼─────────────────┤\n",
       "│ block4_conv3 (<span style=\"color: #0087ff; text-decoration-color: #0087ff\">Conv2D</span>)                │ (<span style=\"color: #00d7ff; text-decoration-color: #00d7ff\">None</span>, <span style=\"color: #00af00; text-decoration-color: #00af00\">8</span>, <span style=\"color: #00af00; text-decoration-color: #00af00\">8</span>, <span style=\"color: #00af00; text-decoration-color: #00af00\">512</span>)           │       <span style=\"color: #00af00; text-decoration-color: #00af00\">2,359,808</span> │\n",
       "├──────────────────────────────────────┼─────────────────────────────┼─────────────────┤\n",
       "│ block4_pool (<span style=\"color: #0087ff; text-decoration-color: #0087ff\">MaxPooling2D</span>)           │ (<span style=\"color: #00d7ff; text-decoration-color: #00d7ff\">None</span>, <span style=\"color: #00af00; text-decoration-color: #00af00\">4</span>, <span style=\"color: #00af00; text-decoration-color: #00af00\">4</span>, <span style=\"color: #00af00; text-decoration-color: #00af00\">512</span>)           │               <span style=\"color: #00af00; text-decoration-color: #00af00\">0</span> │\n",
       "├──────────────────────────────────────┼─────────────────────────────┼─────────────────┤\n",
       "│ block5_conv1 (<span style=\"color: #0087ff; text-decoration-color: #0087ff\">Conv2D</span>)                │ (<span style=\"color: #00d7ff; text-decoration-color: #00d7ff\">None</span>, <span style=\"color: #00af00; text-decoration-color: #00af00\">4</span>, <span style=\"color: #00af00; text-decoration-color: #00af00\">4</span>, <span style=\"color: #00af00; text-decoration-color: #00af00\">512</span>)           │       <span style=\"color: #00af00; text-decoration-color: #00af00\">2,359,808</span> │\n",
       "├──────────────────────────────────────┼─────────────────────────────┼─────────────────┤\n",
       "│ block5_conv2 (<span style=\"color: #0087ff; text-decoration-color: #0087ff\">Conv2D</span>)                │ (<span style=\"color: #00d7ff; text-decoration-color: #00d7ff\">None</span>, <span style=\"color: #00af00; text-decoration-color: #00af00\">4</span>, <span style=\"color: #00af00; text-decoration-color: #00af00\">4</span>, <span style=\"color: #00af00; text-decoration-color: #00af00\">512</span>)           │       <span style=\"color: #00af00; text-decoration-color: #00af00\">2,359,808</span> │\n",
       "├──────────────────────────────────────┼─────────────────────────────┼─────────────────┤\n",
       "│ block5_conv3 (<span style=\"color: #0087ff; text-decoration-color: #0087ff\">Conv2D</span>)                │ (<span style=\"color: #00d7ff; text-decoration-color: #00d7ff\">None</span>, <span style=\"color: #00af00; text-decoration-color: #00af00\">4</span>, <span style=\"color: #00af00; text-decoration-color: #00af00\">4</span>, <span style=\"color: #00af00; text-decoration-color: #00af00\">512</span>)           │       <span style=\"color: #00af00; text-decoration-color: #00af00\">2,359,808</span> │\n",
       "├──────────────────────────────────────┼─────────────────────────────┼─────────────────┤\n",
       "│ block5_pool (<span style=\"color: #0087ff; text-decoration-color: #0087ff\">MaxPooling2D</span>)           │ (<span style=\"color: #00d7ff; text-decoration-color: #00d7ff\">None</span>, <span style=\"color: #00af00; text-decoration-color: #00af00\">2</span>, <span style=\"color: #00af00; text-decoration-color: #00af00\">2</span>, <span style=\"color: #00af00; text-decoration-color: #00af00\">512</span>)           │               <span style=\"color: #00af00; text-decoration-color: #00af00\">0</span> │\n",
       "├──────────────────────────────────────┼─────────────────────────────┼─────────────────┤\n",
       "│ flatten (<span style=\"color: #0087ff; text-decoration-color: #0087ff\">Flatten</span>)                    │ (<span style=\"color: #00d7ff; text-decoration-color: #00d7ff\">None</span>, <span style=\"color: #00af00; text-decoration-color: #00af00\">2048</span>)                │               <span style=\"color: #00af00; text-decoration-color: #00af00\">0</span> │\n",
       "├──────────────────────────────────────┼─────────────────────────────┼─────────────────┤\n",
       "│ dense (<span style=\"color: #0087ff; text-decoration-color: #0087ff\">Dense</span>)                        │ (<span style=\"color: #00d7ff; text-decoration-color: #00d7ff\">None</span>, <span style=\"color: #00af00; text-decoration-color: #00af00\">256</span>)                 │         <span style=\"color: #00af00; text-decoration-color: #00af00\">524,544</span> │\n",
       "├──────────────────────────────────────┼─────────────────────────────┼─────────────────┤\n",
       "│ dropout (<span style=\"color: #0087ff; text-decoration-color: #0087ff\">Dropout</span>)                    │ (<span style=\"color: #00d7ff; text-decoration-color: #00d7ff\">None</span>, <span style=\"color: #00af00; text-decoration-color: #00af00\">256</span>)                 │               <span style=\"color: #00af00; text-decoration-color: #00af00\">0</span> │\n",
       "├──────────────────────────────────────┼─────────────────────────────┼─────────────────┤\n",
       "│ dense_1 (<span style=\"color: #0087ff; text-decoration-color: #0087ff\">Dense</span>)                      │ (<span style=\"color: #00d7ff; text-decoration-color: #00d7ff\">None</span>, <span style=\"color: #00af00; text-decoration-color: #00af00\">10</span>)                  │           <span style=\"color: #00af00; text-decoration-color: #00af00\">2,570</span> │\n",
       "└──────────────────────────────────────┴─────────────────────────────┴─────────────────┘\n",
       "</pre>\n"
      ],
      "text/plain": [
       "┏━━━━━━━━━━━━━━━━━━━━━━━━━━━━━━━━━━━━━━┳━━━━━━━━━━━━━━━━━━━━━━━━━━━━━┳━━━━━━━━━━━━━━━━━┓\n",
       "┃\u001b[1m \u001b[0m\u001b[1mLayer (type)                        \u001b[0m\u001b[1m \u001b[0m┃\u001b[1m \u001b[0m\u001b[1mOutput Shape               \u001b[0m\u001b[1m \u001b[0m┃\u001b[1m \u001b[0m\u001b[1m        Param #\u001b[0m\u001b[1m \u001b[0m┃\n",
       "┡━━━━━━━━━━━━━━━━━━━━━━━━━━━━━━━━━━━━━━╇━━━━━━━━━━━━━━━━━━━━━━━━━━━━━╇━━━━━━━━━━━━━━━━━┩\n",
       "│ input_layer (\u001b[38;5;33mInputLayer\u001b[0m)             │ (\u001b[38;5;45mNone\u001b[0m, \u001b[38;5;34m64\u001b[0m, \u001b[38;5;34m64\u001b[0m, \u001b[38;5;34m3\u001b[0m)           │               \u001b[38;5;34m0\u001b[0m │\n",
       "├──────────────────────────────────────┼─────────────────────────────┼─────────────────┤\n",
       "│ block1_conv1 (\u001b[38;5;33mConv2D\u001b[0m)                │ (\u001b[38;5;45mNone\u001b[0m, \u001b[38;5;34m64\u001b[0m, \u001b[38;5;34m64\u001b[0m, \u001b[38;5;34m64\u001b[0m)          │           \u001b[38;5;34m1,792\u001b[0m │\n",
       "├──────────────────────────────────────┼─────────────────────────────┼─────────────────┤\n",
       "│ block1_conv2 (\u001b[38;5;33mConv2D\u001b[0m)                │ (\u001b[38;5;45mNone\u001b[0m, \u001b[38;5;34m64\u001b[0m, \u001b[38;5;34m64\u001b[0m, \u001b[38;5;34m64\u001b[0m)          │          \u001b[38;5;34m36,928\u001b[0m │\n",
       "├──────────────────────────────────────┼─────────────────────────────┼─────────────────┤\n",
       "│ block1_pool (\u001b[38;5;33mMaxPooling2D\u001b[0m)           │ (\u001b[38;5;45mNone\u001b[0m, \u001b[38;5;34m32\u001b[0m, \u001b[38;5;34m32\u001b[0m, \u001b[38;5;34m64\u001b[0m)          │               \u001b[38;5;34m0\u001b[0m │\n",
       "├──────────────────────────────────────┼─────────────────────────────┼─────────────────┤\n",
       "│ block2_conv1 (\u001b[38;5;33mConv2D\u001b[0m)                │ (\u001b[38;5;45mNone\u001b[0m, \u001b[38;5;34m32\u001b[0m, \u001b[38;5;34m32\u001b[0m, \u001b[38;5;34m128\u001b[0m)         │          \u001b[38;5;34m73,856\u001b[0m │\n",
       "├──────────────────────────────────────┼─────────────────────────────┼─────────────────┤\n",
       "│ block2_conv2 (\u001b[38;5;33mConv2D\u001b[0m)                │ (\u001b[38;5;45mNone\u001b[0m, \u001b[38;5;34m32\u001b[0m, \u001b[38;5;34m32\u001b[0m, \u001b[38;5;34m128\u001b[0m)         │         \u001b[38;5;34m147,584\u001b[0m │\n",
       "├──────────────────────────────────────┼─────────────────────────────┼─────────────────┤\n",
       "│ block2_pool (\u001b[38;5;33mMaxPooling2D\u001b[0m)           │ (\u001b[38;5;45mNone\u001b[0m, \u001b[38;5;34m16\u001b[0m, \u001b[38;5;34m16\u001b[0m, \u001b[38;5;34m128\u001b[0m)         │               \u001b[38;5;34m0\u001b[0m │\n",
       "├──────────────────────────────────────┼─────────────────────────────┼─────────────────┤\n",
       "│ block3_conv1 (\u001b[38;5;33mConv2D\u001b[0m)                │ (\u001b[38;5;45mNone\u001b[0m, \u001b[38;5;34m16\u001b[0m, \u001b[38;5;34m16\u001b[0m, \u001b[38;5;34m256\u001b[0m)         │         \u001b[38;5;34m295,168\u001b[0m │\n",
       "├──────────────────────────────────────┼─────────────────────────────┼─────────────────┤\n",
       "│ block3_conv2 (\u001b[38;5;33mConv2D\u001b[0m)                │ (\u001b[38;5;45mNone\u001b[0m, \u001b[38;5;34m16\u001b[0m, \u001b[38;5;34m16\u001b[0m, \u001b[38;5;34m256\u001b[0m)         │         \u001b[38;5;34m590,080\u001b[0m │\n",
       "├──────────────────────────────────────┼─────────────────────────────┼─────────────────┤\n",
       "│ block3_conv3 (\u001b[38;5;33mConv2D\u001b[0m)                │ (\u001b[38;5;45mNone\u001b[0m, \u001b[38;5;34m16\u001b[0m, \u001b[38;5;34m16\u001b[0m, \u001b[38;5;34m256\u001b[0m)         │         \u001b[38;5;34m590,080\u001b[0m │\n",
       "├──────────────────────────────────────┼─────────────────────────────┼─────────────────┤\n",
       "│ block3_pool (\u001b[38;5;33mMaxPooling2D\u001b[0m)           │ (\u001b[38;5;45mNone\u001b[0m, \u001b[38;5;34m8\u001b[0m, \u001b[38;5;34m8\u001b[0m, \u001b[38;5;34m256\u001b[0m)           │               \u001b[38;5;34m0\u001b[0m │\n",
       "├──────────────────────────────────────┼─────────────────────────────┼─────────────────┤\n",
       "│ block4_conv1 (\u001b[38;5;33mConv2D\u001b[0m)                │ (\u001b[38;5;45mNone\u001b[0m, \u001b[38;5;34m8\u001b[0m, \u001b[38;5;34m8\u001b[0m, \u001b[38;5;34m512\u001b[0m)           │       \u001b[38;5;34m1,180,160\u001b[0m │\n",
       "├──────────────────────────────────────┼─────────────────────────────┼─────────────────┤\n",
       "│ block4_conv2 (\u001b[38;5;33mConv2D\u001b[0m)                │ (\u001b[38;5;45mNone\u001b[0m, \u001b[38;5;34m8\u001b[0m, \u001b[38;5;34m8\u001b[0m, \u001b[38;5;34m512\u001b[0m)           │       \u001b[38;5;34m2,359,808\u001b[0m │\n",
       "├──────────────────────────────────────┼─────────────────────────────┼─────────────────┤\n",
       "│ block4_conv3 (\u001b[38;5;33mConv2D\u001b[0m)                │ (\u001b[38;5;45mNone\u001b[0m, \u001b[38;5;34m8\u001b[0m, \u001b[38;5;34m8\u001b[0m, \u001b[38;5;34m512\u001b[0m)           │       \u001b[38;5;34m2,359,808\u001b[0m │\n",
       "├──────────────────────────────────────┼─────────────────────────────┼─────────────────┤\n",
       "│ block4_pool (\u001b[38;5;33mMaxPooling2D\u001b[0m)           │ (\u001b[38;5;45mNone\u001b[0m, \u001b[38;5;34m4\u001b[0m, \u001b[38;5;34m4\u001b[0m, \u001b[38;5;34m512\u001b[0m)           │               \u001b[38;5;34m0\u001b[0m │\n",
       "├──────────────────────────────────────┼─────────────────────────────┼─────────────────┤\n",
       "│ block5_conv1 (\u001b[38;5;33mConv2D\u001b[0m)                │ (\u001b[38;5;45mNone\u001b[0m, \u001b[38;5;34m4\u001b[0m, \u001b[38;5;34m4\u001b[0m, \u001b[38;5;34m512\u001b[0m)           │       \u001b[38;5;34m2,359,808\u001b[0m │\n",
       "├──────────────────────────────────────┼─────────────────────────────┼─────────────────┤\n",
       "│ block5_conv2 (\u001b[38;5;33mConv2D\u001b[0m)                │ (\u001b[38;5;45mNone\u001b[0m, \u001b[38;5;34m4\u001b[0m, \u001b[38;5;34m4\u001b[0m, \u001b[38;5;34m512\u001b[0m)           │       \u001b[38;5;34m2,359,808\u001b[0m │\n",
       "├──────────────────────────────────────┼─────────────────────────────┼─────────────────┤\n",
       "│ block5_conv3 (\u001b[38;5;33mConv2D\u001b[0m)                │ (\u001b[38;5;45mNone\u001b[0m, \u001b[38;5;34m4\u001b[0m, \u001b[38;5;34m4\u001b[0m, \u001b[38;5;34m512\u001b[0m)           │       \u001b[38;5;34m2,359,808\u001b[0m │\n",
       "├──────────────────────────────────────┼─────────────────────────────┼─────────────────┤\n",
       "│ block5_pool (\u001b[38;5;33mMaxPooling2D\u001b[0m)           │ (\u001b[38;5;45mNone\u001b[0m, \u001b[38;5;34m2\u001b[0m, \u001b[38;5;34m2\u001b[0m, \u001b[38;5;34m512\u001b[0m)           │               \u001b[38;5;34m0\u001b[0m │\n",
       "├──────────────────────────────────────┼─────────────────────────────┼─────────────────┤\n",
       "│ flatten (\u001b[38;5;33mFlatten\u001b[0m)                    │ (\u001b[38;5;45mNone\u001b[0m, \u001b[38;5;34m2048\u001b[0m)                │               \u001b[38;5;34m0\u001b[0m │\n",
       "├──────────────────────────────────────┼─────────────────────────────┼─────────────────┤\n",
       "│ dense (\u001b[38;5;33mDense\u001b[0m)                        │ (\u001b[38;5;45mNone\u001b[0m, \u001b[38;5;34m256\u001b[0m)                 │         \u001b[38;5;34m524,544\u001b[0m │\n",
       "├──────────────────────────────────────┼─────────────────────────────┼─────────────────┤\n",
       "│ dropout (\u001b[38;5;33mDropout\u001b[0m)                    │ (\u001b[38;5;45mNone\u001b[0m, \u001b[38;5;34m256\u001b[0m)                 │               \u001b[38;5;34m0\u001b[0m │\n",
       "├──────────────────────────────────────┼─────────────────────────────┼─────────────────┤\n",
       "│ dense_1 (\u001b[38;5;33mDense\u001b[0m)                      │ (\u001b[38;5;45mNone\u001b[0m, \u001b[38;5;34m10\u001b[0m)                  │           \u001b[38;5;34m2,570\u001b[0m │\n",
       "└──────────────────────────────────────┴─────────────────────────────┴─────────────────┘\n"
      ]
     },
     "metadata": {},
     "output_type": "display_data"
    },
    {
     "data": {
      "text/html": [
       "<pre style=\"white-space:pre;overflow-x:auto;line-height:normal;font-family:Menlo,'DejaVu Sans Mono',consolas,'Courier New',monospace\"><span style=\"font-weight: bold\"> Total params: </span><span style=\"color: #00af00; text-decoration-color: #00af00\">15,241,802</span> (58.14 MB)\n",
       "</pre>\n"
      ],
      "text/plain": [
       "\u001b[1m Total params: \u001b[0m\u001b[38;5;34m15,241,802\u001b[0m (58.14 MB)\n"
      ]
     },
     "metadata": {},
     "output_type": "display_data"
    },
    {
     "data": {
      "text/html": [
       "<pre style=\"white-space:pre;overflow-x:auto;line-height:normal;font-family:Menlo,'DejaVu Sans Mono',consolas,'Courier New',monospace\"><span style=\"font-weight: bold\"> Trainable params: </span><span style=\"color: #00af00; text-decoration-color: #00af00\">527,114</span> (2.01 MB)\n",
       "</pre>\n"
      ],
      "text/plain": [
       "\u001b[1m Trainable params: \u001b[0m\u001b[38;5;34m527,114\u001b[0m (2.01 MB)\n"
      ]
     },
     "metadata": {},
     "output_type": "display_data"
    },
    {
     "data": {
      "text/html": [
       "<pre style=\"white-space:pre;overflow-x:auto;line-height:normal;font-family:Menlo,'DejaVu Sans Mono',consolas,'Courier New',monospace\"><span style=\"font-weight: bold\"> Non-trainable params: </span><span style=\"color: #00af00; text-decoration-color: #00af00\">14,714,688</span> (56.13 MB)\n",
       "</pre>\n"
      ],
      "text/plain": [
       "\u001b[1m Non-trainable params: \u001b[0m\u001b[38;5;34m14,714,688\u001b[0m (56.13 MB)\n"
      ]
     },
     "metadata": {},
     "output_type": "display_data"
    }
   ],
   "source": [
    "# Tạo mô hình mới từ VGG16 + các lớp phân loại mới\n",
    "model = Model(inputs=vgg16.input, outputs=output)\n",
    "\n",
    "# Tóm tắt mô hình\n",
    "model.summary()\n",
    "\n",
    "# Compile mô hình\n",
    "model.compile(optimizer=Adam(), loss='categorical_crossentropy', metrics=['accuracy'])\n",
    "\n",
    "# Callback cho việc dừng sớm nếu mô hình không cải thiện\n",
    "callbacks = [EarlyStopping(monitor='val_loss', patience=5, restore_best_weights=True)]"
   ]
  },
  {
   "cell_type": "markdown",
   "id": "9ac05ba9",
   "metadata": {
    "id": "UnuqYGtqVLio",
    "papermill": {
     "duration": 0.00463,
     "end_time": "2025-06-20T10:59:03.174873",
     "exception": false,
     "start_time": "2025-06-20T10:59:03.170243",
     "status": "completed"
    },
    "tags": []
   },
   "source": [
    "4. HUẤN LUYỆN MÔ HÌNH CNN"
   ]
  },
  {
   "cell_type": "code",
   "execution_count": null,
   "id": "eea363e9",
   "metadata": {
    "execution": {
     "iopub.execute_input": "2025-06-20T10:59:03.185971Z",
     "iopub.status.busy": "2025-06-20T10:59:03.185619Z",
     "iopub.status.idle": "2025-06-20T11:00:38.130702Z",
     "shell.execute_reply": "2025-06-20T11:00:38.129362Z"
    },
    "id": "h-LJx3zmVLio",
    "outputId": "835709cb-f161-425e-c9f1-c754daedab30",
    "papermill": {
     "duration": 94.952993,
     "end_time": "2025-06-20T11:00:38.132637",
     "exception": false,
     "start_time": "2025-06-20T10:59:03.179644",
     "status": "completed"
    },
    "tags": []
   },
   "outputs": [
    {
     "name": "stdout",
     "output_type": "stream",
     "text": [
      "Epoch 1/500\n"
     ]
    },
    {
     "name": "stderr",
     "output_type": "stream",
     "text": [
      "WARNING: All log messages before absl::InitializeLog() is called are written to STDERR\n",
      "I0000 00:00:1750417145.975933      65 service.cc:148] XLA service 0x7c6b60012210 initialized for platform CUDA (this does not guarantee that XLA will be used). Devices:\n",
      "I0000 00:00:1750417145.977588      65 service.cc:156]   StreamExecutor device (0): Tesla T4, Compute Capability 7.5\n",
      "I0000 00:00:1750417145.977618      65 service.cc:156]   StreamExecutor device (1): Tesla T4, Compute Capability 7.5\n",
      "I0000 00:00:1750417146.509465      65 cuda_dnn.cc:529] Loaded cuDNN version 90300\n"
     ]
    },
    {
     "name": "stdout",
     "output_type": "stream",
     "text": [
      "\u001b[1m 5/44\u001b[0m \u001b[32m━━\u001b[0m\u001b[37m━━━━━━━━━━━━━━━━━━\u001b[0m \u001b[1m1s\u001b[0m 35ms/step - accuracy: 0.1214 - loss: 2.5850"
     ]
    },
    {
     "name": "stderr",
     "output_type": "stream",
     "text": [
      "I0000 00:00:1750417151.709187      65 device_compiler.h:188] Compiled cluster using XLA!  This line is logged at most once for the lifetime of the process.\n"
     ]
    },
    {
     "name": "stdout",
     "output_type": "stream",
     "text": [
      "\u001b[1m44/44\u001b[0m \u001b[32m━━━━━━━━━━━━━━━━━━━━\u001b[0m\u001b[37m\u001b[0m \u001b[1m17s\u001b[0m 199ms/step - accuracy: 0.1925 - loss: 2.2692 - val_accuracy: 0.4892 - val_loss: 1.6892\n",
      "Epoch 2/500\n",
      "\u001b[1m44/44\u001b[0m \u001b[32m━━━━━━━━━━━━━━━━━━━━\u001b[0m\u001b[37m\u001b[0m \u001b[1m2s\u001b[0m 46ms/step - accuracy: 0.3849 - loss: 1.7234 - val_accuracy: 0.5466 - val_loss: 1.4731\n",
      "Epoch 3/500\n",
      "\u001b[1m44/44\u001b[0m \u001b[32m━━━━━━━━━━━━━━━━━━━━\u001b[0m\u001b[37m\u001b[0m \u001b[1m2s\u001b[0m 46ms/step - accuracy: 0.4994 - loss: 1.5202 - val_accuracy: 0.5524 - val_loss: 1.3545\n",
      "Epoch 4/500\n",
      "\u001b[1m44/44\u001b[0m \u001b[32m━━━━━━━━━━━━━━━━━━━━\u001b[0m\u001b[37m\u001b[0m \u001b[1m2s\u001b[0m 47ms/step - accuracy: 0.5247 - loss: 1.3950 - val_accuracy: 0.6098 - val_loss: 1.2588\n",
      "Epoch 5/500\n",
      "\u001b[1m44/44\u001b[0m \u001b[32m━━━━━━━━━━━━━━━━━━━━\u001b[0m\u001b[37m\u001b[0m \u001b[1m2s\u001b[0m 46ms/step - accuracy: 0.5866 - loss: 1.2823 - val_accuracy: 0.6341 - val_loss: 1.1944\n",
      "Epoch 6/500\n",
      "\u001b[1m44/44\u001b[0m \u001b[32m━━━━━━━━━━━━━━━━━━━━\u001b[0m\u001b[37m\u001b[0m \u001b[1m2s\u001b[0m 46ms/step - accuracy: 0.5805 - loss: 1.2572 - val_accuracy: 0.6585 - val_loss: 1.1231\n",
      "Epoch 7/500\n",
      "\u001b[1m44/44\u001b[0m \u001b[32m━━━━━━━━━━━━━━━━━━━━\u001b[0m\u001b[37m\u001b[0m \u001b[1m2s\u001b[0m 46ms/step - accuracy: 0.6277 - loss: 1.1628 - val_accuracy: 0.6399 - val_loss: 1.1014\n",
      "Epoch 8/500\n",
      "\u001b[1m44/44\u001b[0m \u001b[32m━━━━━━━━━━━━━━━━━━━━\u001b[0m\u001b[37m\u001b[0m \u001b[1m2s\u001b[0m 46ms/step - accuracy: 0.6143 - loss: 1.1627 - val_accuracy: 0.6858 - val_loss: 1.0478\n",
      "Epoch 9/500\n",
      "\u001b[1m44/44\u001b[0m \u001b[32m━━━━━━━━━━━━━━━━━━━━\u001b[0m\u001b[37m\u001b[0m \u001b[1m2s\u001b[0m 46ms/step - accuracy: 0.6395 - loss: 1.1181 - val_accuracy: 0.6700 - val_loss: 1.0166\n",
      "Epoch 10/500\n",
      "\u001b[1m44/44\u001b[0m \u001b[32m━━━━━━━━━━━━━━━━━━━━\u001b[0m\u001b[37m\u001b[0m \u001b[1m2s\u001b[0m 46ms/step - accuracy: 0.6708 - loss: 1.0422 - val_accuracy: 0.6901 - val_loss: 0.9768\n",
      "Epoch 11/500\n",
      "\u001b[1m44/44\u001b[0m \u001b[32m━━━━━━━━━━━━━━━━━━━━\u001b[0m\u001b[37m\u001b[0m \u001b[1m2s\u001b[0m 46ms/step - accuracy: 0.6821 - loss: 0.9871 - val_accuracy: 0.6915 - val_loss: 0.9805\n",
      "Epoch 12/500\n",
      "\u001b[1m44/44\u001b[0m \u001b[32m━━━━━━━━━━━━━━━━━━━━\u001b[0m\u001b[37m\u001b[0m \u001b[1m2s\u001b[0m 47ms/step - accuracy: 0.6751 - loss: 0.9961 - val_accuracy: 0.7159 - val_loss: 0.9431\n",
      "Epoch 13/500\n",
      "\u001b[1m44/44\u001b[0m \u001b[32m━━━━━━━━━━━━━━━━━━━━\u001b[0m\u001b[37m\u001b[0m \u001b[1m2s\u001b[0m 47ms/step - accuracy: 0.7047 - loss: 0.9147 - val_accuracy: 0.7231 - val_loss: 0.9147\n",
      "Epoch 14/500\n",
      "\u001b[1m44/44\u001b[0m \u001b[32m━━━━━━━━━━━━━━━━━━━━\u001b[0m\u001b[37m\u001b[0m \u001b[1m2s\u001b[0m 47ms/step - accuracy: 0.7231 - loss: 0.8773 - val_accuracy: 0.7131 - val_loss: 0.9110\n",
      "Epoch 15/500\n",
      "\u001b[1m44/44\u001b[0m \u001b[32m━━━━━━━━━━━━━━━━━━━━\u001b[0m\u001b[37m\u001b[0m \u001b[1m2s\u001b[0m 47ms/step - accuracy: 0.7184 - loss: 0.8882 - val_accuracy: 0.7418 - val_loss: 0.8856\n",
      "Epoch 16/500\n",
      "\u001b[1m44/44\u001b[0m \u001b[32m━━━━━━━━━━━━━━━━━━━━\u001b[0m\u001b[37m\u001b[0m \u001b[1m2s\u001b[0m 47ms/step - accuracy: 0.7272 - loss: 0.8627 - val_accuracy: 0.7518 - val_loss: 0.8651\n",
      "Epoch 17/500\n",
      "\u001b[1m44/44\u001b[0m \u001b[32m━━━━━━━━━━━━━━━━━━━━\u001b[0m\u001b[37m\u001b[0m \u001b[1m2s\u001b[0m 47ms/step - accuracy: 0.7443 - loss: 0.8132 - val_accuracy: 0.7374 - val_loss: 0.8701\n",
      "Epoch 18/500\n",
      "\u001b[1m44/44\u001b[0m \u001b[32m━━━━━━━━━━━━━━━━━━━━\u001b[0m\u001b[37m\u001b[0m \u001b[1m2s\u001b[0m 48ms/step - accuracy: 0.7442 - loss: 0.7889 - val_accuracy: 0.7418 - val_loss: 0.8581\n",
      "Epoch 19/500\n",
      "\u001b[1m44/44\u001b[0m \u001b[32m━━━━━━━━━━━━━━━━━━━━\u001b[0m\u001b[37m\u001b[0m \u001b[1m2s\u001b[0m 48ms/step - accuracy: 0.7434 - loss: 0.7976 - val_accuracy: 0.7374 - val_loss: 0.8527\n",
      "Epoch 20/500\n",
      "\u001b[1m44/44\u001b[0m \u001b[32m━━━━━━━━━━━━━━━━━━━━\u001b[0m\u001b[37m\u001b[0m \u001b[1m2s\u001b[0m 48ms/step - accuracy: 0.7694 - loss: 0.7521 - val_accuracy: 0.7432 - val_loss: 0.8492\n",
      "Epoch 21/500\n",
      "\u001b[1m44/44\u001b[0m \u001b[32m━━━━━━━━━━━━━━━━━━━━\u001b[0m\u001b[37m\u001b[0m \u001b[1m2s\u001b[0m 48ms/step - accuracy: 0.7660 - loss: 0.7643 - val_accuracy: 0.7461 - val_loss: 0.8409\n",
      "Epoch 22/500\n",
      "\u001b[1m44/44\u001b[0m \u001b[32m━━━━━━━━━━━━━━━━━━━━\u001b[0m\u001b[37m\u001b[0m \u001b[1m2s\u001b[0m 48ms/step - accuracy: 0.7724 - loss: 0.7212 - val_accuracy: 0.7575 - val_loss: 0.8132\n",
      "Epoch 23/500\n",
      "\u001b[1m44/44\u001b[0m \u001b[32m━━━━━━━━━━━━━━━━━━━━\u001b[0m\u001b[37m\u001b[0m \u001b[1m2s\u001b[0m 47ms/step - accuracy: 0.7824 - loss: 0.7019 - val_accuracy: 0.7547 - val_loss: 0.8198\n",
      "Epoch 24/500\n",
      "\u001b[1m44/44\u001b[0m \u001b[32m━━━━━━━━━━━━━━━━━━━━\u001b[0m\u001b[37m\u001b[0m \u001b[1m2s\u001b[0m 48ms/step - accuracy: 0.7783 - loss: 0.6927 - val_accuracy: 0.7446 - val_loss: 0.8073\n",
      "Epoch 25/500\n",
      "\u001b[1m44/44\u001b[0m \u001b[32m━━━━━━━━━━━━━━━━━━━━\u001b[0m\u001b[37m\u001b[0m \u001b[1m2s\u001b[0m 49ms/step - accuracy: 0.7876 - loss: 0.6893 - val_accuracy: 0.7719 - val_loss: 0.7894\n",
      "Epoch 26/500\n",
      "\u001b[1m44/44\u001b[0m \u001b[32m━━━━━━━━━━━━━━━━━━━━\u001b[0m\u001b[37m\u001b[0m \u001b[1m2s\u001b[0m 47ms/step - accuracy: 0.7914 - loss: 0.6580 - val_accuracy: 0.7532 - val_loss: 0.7915\n",
      "Epoch 27/500\n",
      "\u001b[1m44/44\u001b[0m \u001b[32m━━━━━━━━━━━━━━━━━━━━\u001b[0m\u001b[37m\u001b[0m \u001b[1m2s\u001b[0m 47ms/step - accuracy: 0.7927 - loss: 0.6561 - val_accuracy: 0.7618 - val_loss: 0.7896\n",
      "Epoch 28/500\n",
      "\u001b[1m44/44\u001b[0m \u001b[32m━━━━━━━━━━━━━━━━━━━━\u001b[0m\u001b[37m\u001b[0m \u001b[1m2s\u001b[0m 48ms/step - accuracy: 0.8083 - loss: 0.6050 - val_accuracy: 0.7317 - val_loss: 0.8244\n",
      "Epoch 29/500\n",
      "\u001b[1m44/44\u001b[0m \u001b[32m━━━━━━━━━━━━━━━━━━━━\u001b[0m\u001b[37m\u001b[0m \u001b[1m2s\u001b[0m 48ms/step - accuracy: 0.8054 - loss: 0.6516 - val_accuracy: 0.7561 - val_loss: 0.7907\n",
      "Epoch 30/500\n",
      "\u001b[1m44/44\u001b[0m \u001b[32m━━━━━━━━━━━━━━━━━━━━\u001b[0m\u001b[37m\u001b[0m \u001b[1m2s\u001b[0m 49ms/step - accuracy: 0.8012 - loss: 0.6387 - val_accuracy: 0.7590 - val_loss: 0.7819\n",
      "Epoch 31/500\n",
      "\u001b[1m44/44\u001b[0m \u001b[32m━━━━━━━━━━━━━━━━━━━━\u001b[0m\u001b[37m\u001b[0m \u001b[1m2s\u001b[0m 49ms/step - accuracy: 0.8219 - loss: 0.5768 - val_accuracy: 0.7647 - val_loss: 0.7731\n",
      "Epoch 32/500\n",
      "\u001b[1m44/44\u001b[0m \u001b[32m━━━━━━━━━━━━━━━━━━━━\u001b[0m\u001b[37m\u001b[0m \u001b[1m2s\u001b[0m 49ms/step - accuracy: 0.8213 - loss: 0.5919 - val_accuracy: 0.7791 - val_loss: 0.7616\n",
      "Epoch 33/500\n",
      "\u001b[1m44/44\u001b[0m \u001b[32m━━━━━━━━━━━━━━━━━━━━\u001b[0m\u001b[37m\u001b[0m \u001b[1m2s\u001b[0m 49ms/step - accuracy: 0.8132 - loss: 0.5792 - val_accuracy: 0.7834 - val_loss: 0.7447\n",
      "Epoch 34/500\n",
      "\u001b[1m44/44\u001b[0m \u001b[32m━━━━━━━━━━━━━━━━━━━━\u001b[0m\u001b[37m\u001b[0m \u001b[1m2s\u001b[0m 48ms/step - accuracy: 0.8320 - loss: 0.5439 - val_accuracy: 0.7733 - val_loss: 0.7692\n",
      "Epoch 35/500\n",
      "\u001b[1m44/44\u001b[0m \u001b[32m━━━━━━━━━━━━━━━━━━━━\u001b[0m\u001b[37m\u001b[0m \u001b[1m2s\u001b[0m 48ms/step - accuracy: 0.8460 - loss: 0.5239 - val_accuracy: 0.7676 - val_loss: 0.7810\n",
      "Epoch 36/500\n",
      "\u001b[1m44/44\u001b[0m \u001b[32m━━━━━━━━━━━━━━━━━━━━\u001b[0m\u001b[37m\u001b[0m \u001b[1m2s\u001b[0m 49ms/step - accuracy: 0.8294 - loss: 0.5655 - val_accuracy: 0.7733 - val_loss: 0.7774\n",
      "Epoch 37/500\n",
      "\u001b[1m44/44\u001b[0m \u001b[32m━━━━━━━━━━━━━━━━━━━━\u001b[0m\u001b[37m\u001b[0m \u001b[1m2s\u001b[0m 49ms/step - accuracy: 0.8279 - loss: 0.5604 - val_accuracy: 0.7704 - val_loss: 0.7503\n",
      "Epoch 38/500\n",
      "\u001b[1m44/44\u001b[0m \u001b[32m━━━━━━━━━━━━━━━━━━━━\u001b[0m\u001b[37m\u001b[0m \u001b[1m2s\u001b[0m 49ms/step - accuracy: 0.8430 - loss: 0.5209 - val_accuracy: 0.7762 - val_loss: 0.7677\n"
     ]
    }
   ],
   "source": [
    "# Huấn luyện mô hình\n",
    "H = model.fit(\n",
    "    X_train_sub, Y_train,\n",
    "    validation_data=(X_val, Y_val),\n",
    "    batch_size=32,\n",
    "    epochs=100,\n",
    "    callbacks=callbacks,\n",
    "    verbose=1,\n",
    ")"
   ]
  },
  {
   "cell_type": "code",
   "execution_count": 9,
   "id": "65d3070e",
   "metadata": {
    "execution": {
     "iopub.execute_input": "2025-06-20T11:00:38.234568Z",
     "iopub.status.busy": "2025-06-20T11:00:38.233363Z",
     "iopub.status.idle": "2025-06-20T11:00:38.566191Z",
     "shell.execute_reply": "2025-06-20T11:00:38.565496Z"
    },
    "id": "Cv4lnwNUVLip",
    "papermill": {
     "duration": 0.385703,
     "end_time": "2025-06-20T11:00:38.567868",
     "exception": false,
     "start_time": "2025-06-20T11:00:38.182165",
     "status": "completed"
    },
    "tags": []
   },
   "outputs": [],
   "source": [
    "# Lưu lại mô hình đã fine-tune\n",
    "os.makedirs(\"/kaggle/working\", exist_ok=True)\n",
    "model.save(\"/kaggle/working/vgg16_finetuned_model.keras\")"
   ]
  },
  {
   "cell_type": "markdown",
   "id": "3c7955e9",
   "metadata": {
    "id": "0tgUThFZVLip",
    "papermill": {
     "duration": 0.047366,
     "end_time": "2025-06-20T11:00:38.731857",
     "exception": false,
     "start_time": "2025-06-20T11:00:38.684491",
     "status": "completed"
    },
    "tags": []
   },
   "source": [
    "5. VISUALIZATION"
   ]
  },
  {
   "cell_type": "code",
   "execution_count": 10,
   "id": "7cf9fac0",
   "metadata": {
    "execution": {
     "iopub.execute_input": "2025-06-20T11:00:38.829070Z",
     "iopub.status.busy": "2025-06-20T11:00:38.828747Z",
     "iopub.status.idle": "2025-06-20T11:00:39.368551Z",
     "shell.execute_reply": "2025-06-20T11:00:39.367723Z"
    },
    "id": "oZxLFZdcVLip",
    "papermill": {
     "duration": 0.591136,
     "end_time": "2025-06-20T11:00:39.370112",
     "exception": false,
     "start_time": "2025-06-20T11:00:38.778976",
     "status": "completed"
    },
    "tags": []
   },
   "outputs": [
    {
     "data": {
      "image/png": "[encoded data removed]",
      "text/plain": [
       "<Figure size 800x500 with 1 Axes>"
      ]
     },
     "metadata": {},
     "output_type": "display_data"
    },
    {
     "data": {
      "text/plain": [
       "<function matplotlib.pyplot.show(close=None, block=None)>"
      ]
     },
     "execution_count": 10,
     "metadata": {},
     "output_type": "execute_result"
    },
    {
     "data": {
      "image/png": "[encoded data removed]",
      "text/plain": [
       "<Figure size 800x500 with 1 Axes>"
      ]
     },
     "metadata": {},
     "output_type": "display_data"
    }
   ],
   "source": [
    "# 12. Vẽ đồ thị loss và accuracy của training & validation\n",
    "# Loss\n",
    "plt.figure(figsize=(8,5))\n",
    "plt.subplot(1, 2, 2)\n",
    "plt.plot(H.history['loss'], label='Train loss')\n",
    "plt.plot(H.history['val_loss'], label='Val loss')\n",
    "plt.title('Training vs Validation Loss')\n",
    "plt.xlabel('Epoch')\n",
    "plt.ylabel('Loss')\n",
    "plt.legend()\n",
    "plt.show()\n",
    "\n",
    "# Accuracy\n",
    "plt.figure(figsize=(8,5))\n",
    "plt.subplot(1, 2, 1)\n",
    "plt.plot(H.history['accuracy'], label='Train acc')\n",
    "plt.plot(H.history['val_accuracy'], label='Val acc')\n",
    "plt.title('Training vs Validation Accuracy')\n",
    "plt.xlabel('Epoch')\n",
    "plt.ylabel('Accuracy')\n",
    "plt.legend()\n",
    "plt.show\n"
   ]
  },
  {
   "cell_type": "markdown",
   "id": "6a55ea6b-b94a-4157-b79b-6d03d2ee3dcf",
   "metadata": {},
   "source": [
    "6. Đánh giá trên tập test"
   ]
  },
  {
   "cell_type": "code",
   "execution_count": null,
   "id": "b36a6e4f-3df1-4a03-a12f-23fc603743ef",
   "metadata": {
    "execution": {
     "iopub.execute_input": "2025-06-30T13:44:16.696760Z",
     "iopub.status.busy": "2025-06-30T13:44:16.696060Z",
     "iopub.status.idle": "2025-06-30T13:44:21.733232Z",
     "shell.execute_reply": "2025-06-30T13:44:21.732290Z",
     "shell.execute_reply.started": "2025-06-30T13:44:16.696737Z"
    },
    "trusted": true
   },
   "outputs": [
    {
     "name": "stdout",
     "output_type": "stream",
     "text": [
      "\u001b[1m25/25\u001b[0m \u001b[32m━━━━━━━━━━━━━━━━━━━━\u001b[0m\u001b[37m\u001b[0m \u001b[1m4s\u001b[0m 78ms/step\n",
      "=== Classification Report trên tập TEST ===\n",
      "              precision    recall  f1-score   support\n",
      "\n",
      "           0       0.65      0.78      0.71        77\n",
      "           1       0.55      0.82      0.66        77\n",
      "           2       0.71      0.68      0.69        78\n",
      "           3       0.61      0.74      0.67        80\n",
      "           4       0.63      0.60      0.62        75\n",
      "           5       0.69      0.62      0.65        76\n",
      "           6       0.85      0.65      0.74        78\n",
      "           7       0.80      0.66      0.72        79\n",
      "           8       0.77      0.67      0.72        79\n",
      "           9       0.77      0.65      0.70        79\n",
      "\n",
      "    accuracy                           0.69       778\n",
      "   macro avg       0.70      0.69      0.69       778\n",
      "weighted avg       0.70      0.69      0.69       778\n",
      "\n"
     ]
    }
   ],
   "source": [
    "from sklearn.metrics import classification_report\n",
    "\n",
    "model = load_model('/kaggle/working/vgg16_finetuned_model.keras')\n",
    "\n",
    "# Dự đoán nhãn trên tập test\n",
    "y_test_pred_prob = model.predict(X_test)\n",
    "y_test_pred = np.argmax(y_test_pred_prob, axis=1)\n",
    "\n",
    "# In classification report\n",
    "print(\"=== Classification Report trên tập TEST ===\")\n",
    "print(classification_report(y_test_num, y_test_pred, target_names=le.classes_))"
   ]
  },
  {
   "cell_type": "markdown",
   "id": "9f4971c1",
   "metadata": {
    "papermill": {
     "duration": 0.063659,
     "end_time": "2025-06-20T11:00:39.482976",
     "exception": false,
     "start_time": "2025-06-20T11:00:39.419317",
     "status": "completed"
    },
    "tags": []
   },
   "source": [
    "7. Dự đoán trên tập Predict"
   ]
  },
  {
   "cell_type": "code",
   "execution_count": null,
   "id": "f395654a",
   "metadata": {
    "execution": {
     "iopub.execute_input": "2025-06-20T11:00:39.595158Z",
     "iopub.status.busy": "2025-06-20T11:00:39.594867Z",
     "iopub.status.idle": "2025-06-20T11:05:54.664116Z",
     "shell.execute_reply": "2025-06-20T11:05:54.663084Z"
    },
    "papermill": {
     "duration": 315.120635,
     "end_time": "2025-06-20T11:05:54.665387",
     "exception": false,
     "start_time": "2025-06-20T11:00:39.544752",
     "status": "completed"
    },
    "tags": []
   },
   "outputs": [
    {
     "name": "stdout",
     "output_type": "stream",
     "text": [
      "\u001b[1m305/305\u001b[0m \u001b[32m━━━━━━━━━━━━━━━━━━━━\u001b[0m\u001b[37m\u001b[0m \u001b[1m10s\u001b[0m 26ms/step\n",
      "Results saved to /kaggle/working/predictions.csv\n"
     ]
    }
   ],
   "source": [
    "import os\n",
    "import cv2\n",
    "import numpy as np\n",
    "\n",
    "model = load_model('/kaggle/working/vgg16_finetuned_model.keras')\n",
    "\n",
    "# Hàm dự đoán và lưu kết quả\n",
    "def predict_and_save_results(model, data_dir, img_size=(64,64)):\n",
    "    X, filenames = [], []\n",
    "    \n",
    "    # Kiểm tra lại img_size có đúng định dạng không\n",
    "    if not isinstance(img_size, tuple) or len(img_size) != 2:\n",
    "        raise ValueError(f\"img_size phải là một tuple có 2 phần tử. Hiện tại là {img_size}\")\n",
    "    \n",
    "    # Duyệt qua tất cả các file trong thư mục dữ liệu\n",
    "    for fname in os.listdir(data_dir):\n",
    "        if fname.lower().endswith(('.jpg', '.jpeg', '.png')):  # Lọc các ảnh\n",
    "            path = os.path.join(data_dir, fname)\n",
    "            img = cv2.imread(path, cv2.IMREAD_COLOR)\n",
    "            if img is None:\n",
    "                continue\n",
    "            img = cv2.cvtColor(img, cv2.COLOR_BGR2RGB)  # Đổi sang RGB\n",
    "            \n",
    "            # Resize hình ảnh về kích thước 64x64\n",
    "            img = cv2.resize(img, img_size)  # Resize ảnh\n",
    "            img = img.astype(np.float16) / 255.0  # Chuẩn hóa ảnh\n",
    "            X.append(img)\n",
    "            filenames.append(fname)\n",
    "    \n",
    "    # Chuyển X thành mảng numpy\n",
    "    X = np.array(X)\n",
    "    \n",
    "    # Dự đoán nhãn\n",
    "    predictions = model.predict(X)\n",
    "    predicted_classes = np.argmax(predictions, axis=1)  # Lấy nhãn có xác suất cao nhất\n",
    "\n",
    "    # Lưu kết quả vào file CSV với định dạng tên file và nhãn\n",
    "    result_file = '/kaggle/working/predictions.csv'\n",
    "    with open(result_file, 'w') as f:\n",
    "        for fname, predicted_class in zip(filenames, predicted_classes):\n",
    "            # Đảm bảo giữ nguyên tên file đầy đủ (bao gồm phần mở rộng)\n",
    "            f.write(f\"{fname},{predicted_class}\\n\")\n",
    "    \n",
    "    print(f\"Results saved to {result_file}\")\n",
    "\n",
    "# Dự đoán cho bộ test\n",
    "dataset_path_test = '/kaggle/input/hand-written'\n",
    "predict_and_save_results(model, dataset_path_test)"
   ]
  }
 ],
 "metadata": {
  "accelerator": "GPU",
  "colab": {
   "gpuType": "T4",
   "provenance": []
  },
  "kaggle": {
   "accelerator": "nvidiaTeslaT4",
   "dataSources": [
    {
     "datasetId": 7654174,
     "sourceId": 12153565,
     "sourceType": "datasetVersion"
    },
    {
     "datasetId": 7661808,
     "sourceId": 12165100,
     "sourceType": "datasetVersion"
    },
    {
     "isSourceIdPinned": true,
     "modelId": 389271,
     "modelInstanceId": 368393,
     "sourceId": 454042,
     "sourceType": "modelInstanceVersion"
    }
   ],
   "dockerImageVersionId": 31041,
   "isGpuEnabled": true,
   "isInternetEnabled": true,
   "language": "python",
   "sourceType": "notebook"
  },
  "kernelspec": {
   "display_name": "Python 3",
   "language": "python",
   "name": "python3"
  },
  "language_info": {
   "codemirror_mode": {
    "name": "ipython",
    "version": 3
   },
   "file_extension": ".py",
   "mimetype": "text/x-python",
   "name": "python",
   "nbconvert_exporter": "python",
   "pygments_lexer": "ipython3",
   "version": "3.11.11"
  },
  "papermill": {
   "default_parameters": {},
   "duration": 589.640872,
   "end_time": "2025-06-20T11:05:58.380771",
   "environment_variables": {},
   "exception": null,
   "input_path": "__notebook__.ipynb",
   "output_path": "__notebook__.ipynb",
   "parameters": {},
   "start_time": "2025-06-20T10:56:08.739899",
   "version": "2.6.0"
  }
 },
 "nbformat": 4,
 "nbformat_minor": 5
}
