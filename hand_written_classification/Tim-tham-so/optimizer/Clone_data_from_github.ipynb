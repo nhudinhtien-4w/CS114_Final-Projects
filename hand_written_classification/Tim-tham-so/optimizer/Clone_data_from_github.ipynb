{
 "cells": [
  {
   "cell_type": "code",
   "execution_count": 1,
   "id": "3c189c1c",
   "metadata": {
    "_cell_guid": "b1076dfc-b9ad-4769-8c92-a6c4dae69d19",
    "_uuid": "8f2839f25d086af736a60e9eeb907d3b93b6e0e5",
    "execution": {
     "iopub.execute_input": "2025-06-29T05:26:32.451101Z",
     "iopub.status.busy": "2025-06-29T05:26:32.450793Z",
     "iopub.status.idle": "2025-06-29T05:31:04.701418Z",
     "shell.execute_reply": "2025-06-29T05:31:04.700643Z"
    },
    "papermill": {
     "duration": 272.257792,
     "end_time": "2025-06-29T05:31:04.705704",
     "exception": false,
     "start_time": "2025-06-29T05:26:32.447912",
     "status": "completed"
    },
    "tags": []
   },
   "outputs": [
    {
     "name": "stdout",
     "output_type": "stream",
     "text": [
      "✅ Đang clone: https://github.com/GwLewis369/Hand-written-digit-classification-data.git --> cloned_repos/Hand-written-digit-classification-data\n"
     ]
    },
    {
     "name": "stderr",
     "output_type": "stream",
     "text": [
      "Cloning into 'cloned_repos/Hand-written-digit-classification-data'...\n"
     ]
    },
    {
     "name": "stdout",
     "output_type": "stream",
     "text": [
      "✅ Đang clone: https://github.com/gbaonr/CS114_handwritten_digits_data --> cloned_repos/CS114_handwritten_digits_data\n"
     ]
    },
    {
     "name": "stderr",
     "output_type": "stream",
     "text": [
      "Cloning into 'cloned_repos/CS114_handwritten_digits_data'...\n"
     ]
    },
    {
     "name": "stdout",
     "output_type": "stream",
     "text": [
      "✅ Đang clone: https://github.com/adamwhite625/CS114_hand_written_digit.git --> cloned_repos/CS114_hand_written_digit\n"
     ]
    },
    {
     "name": "stderr",
     "output_type": "stream",
     "text": [
      "Cloning into 'cloned_repos/CS114_hand_written_digit'...\n"
     ]
    },
    {
     "name": "stdout",
     "output_type": "stream",
     "text": [
      "✅ Đang clone: https://github.com/theRaven1312/CS114.P21 --> cloned_repos/CS114.P21\n"
     ]
    },
    {
     "name": "stderr",
     "output_type": "stream",
     "text": [
      "Cloning into 'cloned_repos/CS114.P21'...\n"
     ]
    },
    {
     "name": "stdout",
     "output_type": "stream",
     "text": [
      "✅ Đang clone: https://github.com/Khoiisme1905/CS114.git --> cloned_repos/CS114\n"
     ]
    },
    {
     "name": "stderr",
     "output_type": "stream",
     "text": [
      "Cloning into 'cloned_repos/CS114'...\n"
     ]
    },
    {
     "name": "stdout",
     "output_type": "stream",
     "text": [
      "✅ Đang clone: https://github.com/ProjectHT1/machinelearning --> cloned_repos/machinelearning\n"
     ]
    },
    {
     "name": "stderr",
     "output_type": "stream",
     "text": [
      "Cloning into 'cloned_repos/machinelearning'...\n",
      "Updating files: 100% (314/314), done.\n",
      "Cloning into 'cloned_repos/hand-written-digit'...\n"
     ]
    },
    {
     "name": "stdout",
     "output_type": "stream",
     "text": [
      "✅ Đang clone: https://github.com/Searching96/hand-written-digit.git --> cloned_repos/hand-written-digit\n",
      "✅ Đang clone: https://github.com/Salmon1605/CS114 --> cloned_repos/CS114_1\n"
     ]
    },
    {
     "name": "stderr",
     "output_type": "stream",
     "text": [
      "Cloning into 'cloned_repos/CS114_1'...\n"
     ]
    },
    {
     "name": "stdout",
     "output_type": "stream",
     "text": [
      "✅ Đang clone: https://github.com/anhtuann1224/hand_written_digit --> cloned_repos/hand_written_digit\n"
     ]
    },
    {
     "name": "stderr",
     "output_type": "stream",
     "text": [
      "Cloning into 'cloned_repos/hand_written_digit'...\n",
      "Updating files: 100% (407/407), done.\n",
      "Cloning into 'cloned_repos/Hand_written_digit_classification_data'...\n"
     ]
    },
    {
     "name": "stdout",
     "output_type": "stream",
     "text": [
      "✅ Đang clone: https://github.com/NATuanAN/Hand_written_digit_classification_data.git --> cloned_repos/Hand_written_digit_classification_data\n",
      "✅ Đang clone: https://github.com/huapogba/may-hoc --> cloned_repos/may-hoc\n"
     ]
    },
    {
     "name": "stderr",
     "output_type": "stream",
     "text": [
      "Cloning into 'cloned_repos/may-hoc'...\n"
     ]
    },
    {
     "name": "stdout",
     "output_type": "stream",
     "text": [
      "✅ Đang clone: https://github.com/hieutran890j2/CS114.git --> cloned_repos/CS114_2\n"
     ]
    },
    {
     "name": "stderr",
     "output_type": "stream",
     "text": [
      "Cloning into 'cloned_repos/CS114_2'...\n"
     ]
    },
    {
     "name": "stdout",
     "output_type": "stream",
     "text": [
      "✅ Đang clone: https://github.com/votanhoang483/CS114.P21-Hand_written_digit_classification --> cloned_repos/CS114.P21-Hand_written_digit_classification\n"
     ]
    },
    {
     "name": "stderr",
     "output_type": "stream",
     "text": [
      "Cloning into 'cloned_repos/CS114.P21-Hand_written_digit_classification'...\n",
      "Updating files: 100% (624/624), done.\n",
      "Cloning into 'cloned_repos/CS114_hand_written_digit_1'...\n"
     ]
    },
    {
     "name": "stdout",
     "output_type": "stream",
     "text": [
      "✅ Đang clone: https://github.com/DHPh/CS114_hand_written_digit/ --> cloned_repos/CS114_hand_written_digit_1\n",
      "✅ Đang clone: https://github.com/thaituanUIT/ReminiScenceAI --> cloned_repos/ReminiScenceAI\n"
     ]
    },
    {
     "name": "stderr",
     "output_type": "stream",
     "text": [
      "Cloning into 'cloned_repos/ReminiScenceAI'...\n"
     ]
    },
    {
     "name": "stdout",
     "output_type": "stream",
     "text": [
      "✅ Đang clone: https://github.com/anngyn/CS114-Hand-Written-Digit --> cloned_repos/CS114-Hand-Written-Digit\n"
     ]
    },
    {
     "name": "stderr",
     "output_type": "stream",
     "text": [
      "Cloning into 'cloned_repos/CS114-Hand-Written-Digit'...\n"
     ]
    },
    {
     "name": "stdout",
     "output_type": "stream",
     "text": [
      "⛔ Bỏ qua (không thể clone cây con): https://github.com/lngphgthao/cs114-hand-written-digit-classification/tree/main/hand_written_digit\n",
      "✅ Đang clone: https://github.com/Toan02Ky-UIT/CS114 --> cloned_repos/CS114_3\n"
     ]
    },
    {
     "name": "stderr",
     "output_type": "stream",
     "text": [
      "Cloning into 'cloned_repos/CS114_3'...\n"
     ]
    },
    {
     "name": "stdout",
     "output_type": "stream",
     "text": [
      "✅ Đang clone: https://github.com/Lochke/CS114_Handwritten_Digit_Classification.git --> cloned_repos/CS114_Handwritten_Digit_Classification\n"
     ]
    },
    {
     "name": "stderr",
     "output_type": "stream",
     "text": [
      "Cloning into 'cloned_repos/CS114_Handwritten_Digit_Classification'...\n"
     ]
    },
    {
     "name": "stdout",
     "output_type": "stream",
     "text": [
      "⛔ Bỏ qua (không thể clone cây con): https://github.com/NThong325/CS114/tree/cfd654a14dd471f5272387139d586ddcbf9cdf7e/hand_written_digit\n",
      "✅ Đang clone: https://github.com/toanlamdata/digit-recognition-group --> cloned_repos/digit-recognition-group\n"
     ]
    },
    {
     "name": "stderr",
     "output_type": "stream",
     "text": [
      "Cloning into 'cloned_repos/digit-recognition-group'...\n"
     ]
    },
    {
     "name": "stdout",
     "output_type": "stream",
     "text": [
      "✅ Đang clone: https://github.com/Nohenshin/CS114.P21-2025- --> cloned_repos/CS114.P21-2025-\n"
     ]
    },
    {
     "name": "stderr",
     "output_type": "stream",
     "text": [
      "Cloning into 'cloned_repos/CS114.P21-2025-'...\n"
     ]
    },
    {
     "name": "stdout",
     "output_type": "stream",
     "text": [
      "✅ Đang clone: https://github.com/hmcslearning/ML1142025 --> cloned_repos/ML1142025\n"
     ]
    },
    {
     "name": "stderr",
     "output_type": "stream",
     "text": [
      "Cloning into 'cloned_repos/ML1142025'...\n"
     ]
    },
    {
     "name": "stdout",
     "output_type": "stream",
     "text": [
      "✅ Đang clone: https://github.com/lngphgthao/cs114-hand-written-digit-classification --> cloned_repos/cs114-hand-written-digit-classification\n"
     ]
    },
    {
     "name": "stderr",
     "output_type": "stream",
     "text": [
      "Cloning into 'cloned_repos/cs114-hand-written-digit-classification'...\n"
     ]
    },
    {
     "name": "stdout",
     "output_type": "stream",
     "text": [
      "✅ Đang clone: https://github.com/huapogba/may-hoc --> cloned_repos/may-hoc_1\n"
     ]
    },
    {
     "name": "stderr",
     "output_type": "stream",
     "text": [
      "Cloning into 'cloned_repos/may-hoc_1'...\n"
     ]
    },
    {
     "name": "stdout",
     "output_type": "stream",
     "text": [
      "⛔ Bỏ qua (không thể clone cây con): https://github.com/NThong325/CS114/tree/main/hand_written_digit\n",
      "✅ Đang clone: https://github.com/23520276/Hand-written-digit-classification/ --> cloned_repos/Hand-written-digit-classification\n"
     ]
    },
    {
     "name": "stderr",
     "output_type": "stream",
     "text": [
      "Cloning into 'cloned_repos/Hand-written-digit-classification'...\n"
     ]
    },
    {
     "name": "stdout",
     "output_type": "stream",
     "text": [
      "✅ Đang clone: https://github.com/NThong325/CS114 --> cloned_repos/CS114_4\n"
     ]
    },
    {
     "name": "stderr",
     "output_type": "stream",
     "text": [
      "Cloning into 'cloned_repos/CS114_4'...\n"
     ]
    },
    {
     "name": "stdout",
     "output_type": "stream",
     "text": [
      "📄 Tổng số file trong tất cả repo: 7908\n",
      "\n",
      "📦 Đang đóng gói vào cloned_repos.zip...\n",
      "✅ Đã hoàn tất! File nén: cloned_repos.zip\n"
     ]
    }
   ],
   "source": [
    "import os\n",
    "import subprocess\n",
    "import zipfile\n",
    "from urllib.parse import urlparse\n",
    "\n",
    "# Danh sách repo\n",
    "github_list = '''\n",
    "https://github.com/GwLewis369/Hand-written-digit-classification-data.git\n",
    "https://github.com/gbaonr/CS114_handwritten_digits_data\n",
    "https://github.com/adamwhite625/CS114_hand_written_digit.git\n",
    "https://github.com/theRaven1312/CS114.P21\n",
    "https://github.com/Khoiisme1905/CS114.git\n",
    "https://github.com/ProjectHT1/machinelearning\n",
    "https://github.com/Searching96/hand-written-digit.git\n",
    "https://github.com/Salmon1605/CS114\n",
    "https://github.com/anhtuann1224/hand_written_digit\n",
    "https://github.com/NATuanAN/Hand_written_digit_classification_data.git\n",
    "https://github.com/huapogba/may-hoc\n",
    "https://github.com/hieutran890j2/CS114.git\n",
    "https://github.com/votanhoang483/CS114.P21-Hand_written_digit_classification\n",
    "https://github.com/DHPh/CS114_hand_written_digit/\n",
    "https://github.com/thaituanUIT/ReminiScenceAI\n",
    "https://github.com/anngyn/CS114-Hand-Written-Digit\n",
    "https://github.com/lngphgthao/cs114-hand-written-digit-classification/tree/main/hand_written_digit\n",
    "https://github.com/Toan02Ky-UIT/CS114\n",
    "https://github.com/Lochke/CS114_Handwritten_Digit_Classification.git\n",
    "https://github.com/NThong325/CS114/tree/cfd654a14dd471f5272387139d586ddcbf9cdf7e/hand_written_digit\n",
    "https://github.com/toanlamdata/digit-recognition-group\n",
    "https://github.com/Nohenshin/CS114.P21-2025-\n",
    "https://github.com/hmcslearning/ML1142025\n",
    "https://github.com/lngphgthao/cs114-hand-written-digit-classification\n",
    "https://github.com/huapogba/may-hoc\n",
    "https://github.com/NThong325/CS114/tree/main/hand_written_digit\n",
    "https://github.com/23520276/Hand-written-digit-classification/\n",
    "https://github.com/NThong325/CS114\n",
    "'''.strip().splitlines()\n",
    "\n",
    "# Thư mục chứa repo\n",
    "base_dir = \"cloned_repos\"\n",
    "os.makedirs(base_dir, exist_ok=True)\n",
    "\n",
    "for url in github_list:\n",
    "    if \"/tree/\" in url:\n",
    "        print(f\"⛔ Bỏ qua (không thể clone cây con): {url}\")\n",
    "        continue\n",
    "\n",
    "    repo_name = urlparse(url).path.strip(\"/\").split(\"/\")[-1].replace(\".git\", \"\")\n",
    "    target_dir = os.path.join(base_dir, repo_name)\n",
    "    \n",
    "    count = 1\n",
    "    new_target_dir = target_dir\n",
    "    while os.path.exists(new_target_dir):\n",
    "        new_target_dir = f\"{target_dir}_{count}\"\n",
    "        count += 1\n",
    "\n",
    "    print(f\"✅ Đang clone: {url} --> {new_target_dir}\")\n",
    "    subprocess.run([\"git\", \"clone\", url, new_target_dir])\n",
    "\n",
    "# Đếm tổng số file\n",
    "total_files = 0\n",
    "for root, _, files in os.walk(base_dir):\n",
    "    total_files += len(files)\n",
    "\n",
    "print(f\"📄 Tổng số file trong tất cả repo: {total_files}\")\n",
    "\n",
    "# Nén lại\n",
    "zip_file = \"cloned_repos.zip\"\n",
    "print(f\"\\n📦 Đang đóng gói vào {zip_file}...\")\n",
    "with zipfile.ZipFile(zip_file, 'w', zipfile.ZIP_DEFLATED) as zipf:\n",
    "    for root, _, files in os.walk(base_dir):\n",
    "        for file in files:\n",
    "            filepath = os.path.join(root, file)\n",
    "            zipf.write(filepath, arcname=os.path.relpath(filepath, base_dir))\n",
    "\n",
    "print(f\"✅ Đã hoàn tất! File nén: {zip_file}\")"
   ]
  }
 ],
 "metadata": {
  "kaggle": {
   "accelerator": "nvidiaTeslaT4",
   "dataSources": [],
   "dockerImageVersionId": 31041,
   "isGpuEnabled": true,
   "isInternetEnabled": true,
   "language": "python",
   "sourceType": "notebook"
  },
  "kernelspec": {
   "display_name": "Python 3",
   "language": "python",
   "name": "python3"
  },
  "language_info": {
   "codemirror_mode": {
    "name": "ipython",
    "version": 3
   },
   "file_extension": ".py",
   "mimetype": "text/x-python",
   "name": "python",
   "nbconvert_exporter": "python",
   "pygments_lexer": "ipython3",
   "version": "3.11.11"
  },
  "papermill": {
   "default_parameters": {},
   "duration": 276.67697,
   "end_time": "2025-06-29T05:31:04.926545",
   "environment_variables": {},
   "exception": null,
   "input_path": "__notebook__.ipynb",
   "output_path": "__notebook__.ipynb",
   "parameters": {},
   "start_time": "2025-06-29T05:26:28.249575",
   "version": "2.6.0"
  }
 },
 "nbformat": 4,
 "nbformat_minor": 5
}
